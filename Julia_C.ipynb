{
 "cells": [
  {
   "cell_type": "code",
   "execution_count": 13,
   "metadata": {},
   "outputs": [],
   "source": [
    "using LinearAlgebra\n",
    "using SparseArrays\n",
    "using Plots\n",
    "using Polynomials"
   ]
  },
  {
   "cell_type": "code",
   "execution_count": 9,
   "metadata": {},
   "outputs": [
    {
     "data": {
      "text/plain": [
       "UBVP1D (generic function with 1 method)"
      ]
     },
     "metadata": {},
     "output_type": "display_data"
    }
   ],
   "source": [
    "function BVP1D(L::Float64,c::Float64,d::Float64,x::Vector{Float64})\n",
    "    # Purpose: Solve second-order boundary value problem using FEM.\n",
    "    # Author(s): Clara Hollenbeck\n",
    "    # INPUT PARAMETERS\n",
    "    # L : Domain length\n",
    "    # c : Left boundary condition\n",
    "    # d : Right boundary condition\n",
    "    # x : 1D mesh vector x(1:{M})\n",
    "    \n",
    "    ## GLOBAL ASSEMBLY\n",
    "    # Assemble A (the upper triangle only) and b. (Algorithm 1)\n",
    "    M = length(x)\n",
    "    A = spzeros(M,M)\n",
    "    b = zeros(M)\n",
    "\n",
    "    for i = 1:(M-1)\n",
    "        h = x[i+1] - x[i]\n",
    "        k1 = 1/h + h/3\n",
    "        k2 = -1/h + h/6\n",
    "    \n",
    "        A[i,i] += k1\n",
    "        A[i, i+1] += k2\n",
    "        A[i+1, i] += k2\n",
    "        A[i+1,i+1] += k1\n",
    "    end\n",
    "    # IMPOSE BOUNDARY CONDITIONS\n",
    "    b[1] = c\n",
    "    b[2] -= A[1,2]*c\n",
    "    A[1,1] = 1\n",
    "    A[1,2] = 0\n",
    "    A[2,1] = 0\n",
    "\n",
    "    b[M] = d\n",
    "    b[M-1] -= A[M-1, M]*d\n",
    "    A[M,M] = 1\n",
    "    A[M-1,M] = 0\n",
    "    A[M,M-1] = 0\n",
    "\n",
    "    # SOLVE SYSTEM\n",
    "    u = A\\b\n",
    "\n",
    "    return u\n",
    "end\n",
    "\n",
    "function UBVP1D(L::Float64,c::Float64,d::Float64,M::UInt32)\n",
    "    #Uniform version of the function above.\n",
    "    x = LinRange(0,L,M)\n",
    "    h = L/(M-1)\n",
    "    A = spzeros(M,M)\n",
    "    b = zeros(M)\n",
    "\n",
    "    for i = 1:(M-1)\n",
    "        k1 = 1/h + h/3\n",
    "        k2 = -1/h + h/6\n",
    "    \n",
    "        A[i,i] += k1\n",
    "        A[i, i+1] += k2\n",
    "        A[i+1, i] += k2\n",
    "        A[i+1,i+1] += k1\n",
    "    end\n",
    "    \n",
    "    # IMPOSE BOUNDARY CONDITIONS\n",
    "    b[1] = c\n",
    "    b[2] -= A[1,2]*c\n",
    "    A[1,1] = 1\n",
    "    A[1,2] = 0\n",
    "    A[2,1] = 0\n",
    " \n",
    "    b[M] = d\n",
    "    b[M-1] -= A[M-1, M]*d\n",
    "    A[M,M] = 1\n",
    "    A[M-1,M] = 0\n",
    "    A[M,M-1] = 0\n",
    "\n",
    "    # SOLVE SYSTEM\n",
    "    u = A\\b\n",
    "\n",
    "    return u\n",
    "end\n",
    "\n",
    "\n"
   ]
  },
  {
   "cell_type": "code",
   "execution_count": 12,
   "metadata": {},
   "outputs": [
    {
     "data": {
      "image/png": "[encoded data removed]",
      "image/svg+xml": [
       "<?xml version=\"1.0\" encoding=\"utf-8\"?>\n",
       "<svg xmlns=\"http://www.w3.org/2000/svg\" xmlns:xlink=\"http://www.w3.org/1999/xlink\" width=\"600\" height=\"400\" viewBox=\"0 0 2400 1600\">\n",
       "<defs>\n",
       "  <clipPath id=\"clip900\">\n",
       "    <rect x=\"0\" y=\"0\" width=\"2400\" height=\"1600\"/>\n",
       "  </clipPath>\n",
       "</defs>\n",
       "<path clip-path=\"url(#clip900)\" d=\"M0 1600 L2400 1600 L2400 0 L0 0  Z\" fill=\"#ffffff\" fill-rule=\"evenodd\" fill-opacity=\"1\"/>\n",
       "<defs>\n",
       "  <clipPath id=\"clip901\">\n",
       "    <rect x=\"480\" y=\"0\" width=\"1681\" height=\"1600\"/>\n",
       "  </clipPath>\n",
       "</defs>\n",
       "<path clip-path=\"url(#clip900)\" d=\"M112.177 1486.45 L2352.76 1486.45 L2352.76 47.2441 L112.177 47.2441  Z\" fill=\"#ffffff\" fill-rule=\"evenodd\" fill-opacity=\"1\"/>\n",
       "<defs>\n",
       "  <clipPath id=\"clip902\">\n",
       "    <rect x=\"112\" y=\"47\" width=\"2242\" height=\"1440\"/>\n",
       "  </clipPath>\n",
       "</defs>\n",
       "<polyline clip-path=\"url(#clip902)\" style=\"stroke:#000000; stroke-linecap:round; stroke-linejoin:round; stroke-width:2; stroke-opacity:0.1; fill:none\" points=\"175.59,1486.45 175.59,47.2441 \"/>\n",
       "<polyline clip-path=\"url(#clip902)\" style=\"stroke:#000000; stroke-linecap:round; stroke-linejoin:round; stroke-width:2; stroke-opacity:0.1; fill:none\" points=\"704.028,1486.45 704.028,47.2441 \"/>\n",
       "<polyline clip-path=\"url(#clip902)\" style=\"stroke:#000000; stroke-linecap:round; stroke-linejoin:round; stroke-width:2; stroke-opacity:0.1; fill:none\" points=\"1232.47,1486.45 1232.47,47.2441 \"/>\n",
       "<polyline clip-path=\"url(#clip902)\" style=\"stroke:#000000; stroke-linecap:round; stroke-linejoin:round; stroke-width:2; stroke-opacity:0.1; fill:none\" points=\"1760.9,1486.45 1760.9,47.2441 \"/>\n",
       "<polyline clip-path=\"url(#clip902)\" style=\"stroke:#000000; stroke-linecap:round; stroke-linejoin:round; stroke-width:2; stroke-opacity:0.1; fill:none\" points=\"2289.34,1486.45 2289.34,47.2441 \"/>\n",
       "<polyline clip-path=\"url(#clip900)\" style=\"stroke:#000000; stroke-linecap:round; stroke-linejoin:round; stroke-width:4; stroke-opacity:1; fill:none\" points=\"112.177,1486.45 2352.76,1486.45 \"/>\n",
       "<polyline clip-path=\"url(#clip900)\" style=\"stroke:#000000; stroke-linecap:round; stroke-linejoin:round; stroke-width:4; stroke-opacity:1; fill:none\" points=\"175.59,1486.45 175.59,1467.55 \"/>\n",
       "<polyline clip-path=\"url(#clip900)\" style=\"stroke:#000000; stroke-linecap:round; stroke-linejoin:round; stroke-width:4; stroke-opacity:1; fill:none\" points=\"704.028,1486.45 704.028,1467.55 \"/>\n",
       "<polyline clip-path=\"url(#clip900)\" style=\"stroke:#000000; stroke-linecap:round; stroke-linejoin:round; stroke-width:4; stroke-opacity:1; fill:none\" points=\"1232.47,1486.45 1232.47,1467.55 \"/>\n",
       "<polyline clip-path=\"url(#clip900)\" style=\"stroke:#000000; stroke-linecap:round; stroke-linejoin:round; stroke-width:4; stroke-opacity:1; fill:none\" points=\"1760.9,1486.45 1760.9,1467.55 \"/>\n",
       "<polyline clip-path=\"url(#clip900)\" style=\"stroke:#000000; stroke-linecap:round; stroke-linejoin:round; stroke-width:4; stroke-opacity:1; fill:none\" points=\"2289.34,1486.45 2289.34,1467.55 \"/>\n",
       "<path clip-path=\"url(#clip900)\" d=\"M152.974 1517.37 Q149.363 1517.37 147.534 1520.93 Q145.729 1524.47 145.729 1531.6 Q145.729 1538.71 147.534 1542.27 Q149.363 1545.82 152.974 1545.82 Q156.608 1545.82 158.414 1542.27 Q160.243 1538.71 160.243 1531.6 Q160.243 1524.47 158.414 1520.93 Q156.608 1517.37 152.974 1517.37 M152.974 1513.66 Q158.784 1513.66 161.84 1518.27 Q164.919 1522.85 164.919 1531.6 Q164.919 1540.33 161.84 1544.94 Q158.784 1549.52 152.974 1549.52 Q147.164 1549.52 144.085 1544.94 Q141.03 1540.33 141.03 1531.6 Q141.03 1522.85 144.085 1518.27 Q147.164 1513.66 152.974 1513.66 Z\" fill=\"#000000\" fill-rule=\"nonzero\" fill-opacity=\"1\" /><path clip-path=\"url(#clip900)\" d=\"M173.136 1542.97 L178.02 1542.97 L178.02 1548.85 L173.136 1548.85 L173.136 1542.97 Z\" fill=\"#000000\" fill-rule=\"nonzero\" fill-opacity=\"1\" /><path clip-path=\"url(#clip900)\" d=\"M198.205 1517.37 Q194.594 1517.37 192.766 1520.93 Q190.96 1524.47 190.96 1531.6 Q190.96 1538.71 192.766 1542.27 Q194.594 1545.82 198.205 1545.82 Q201.84 1545.82 203.645 1542.27 Q205.474 1538.71 205.474 1531.6 Q205.474 1524.47 203.645 1520.93 Q201.84 1517.37 198.205 1517.37 M198.205 1513.66 Q204.016 1513.66 207.071 1518.27 Q210.15 1522.85 210.15 1531.6 Q210.15 1540.33 207.071 1544.94 Q204.016 1549.52 198.205 1549.52 Q192.395 1549.52 189.317 1544.94 Q186.261 1540.33 186.261 1531.6 Q186.261 1522.85 189.317 1518.27 Q192.395 1513.66 198.205 1513.66 Z\" fill=\"#000000\" fill-rule=\"nonzero\" fill-opacity=\"1\" /><path clip-path=\"url(#clip900)\" d=\"M681.91 1517.37 Q678.299 1517.37 676.47 1520.93 Q674.665 1524.47 674.665 1531.6 Q674.665 1538.71 676.47 1542.27 Q678.299 1545.82 681.91 1545.82 Q685.544 1545.82 687.35 1542.27 Q689.179 1538.71 689.179 1531.6 Q689.179 1524.47 687.35 1520.93 Q685.544 1517.37 681.91 1517.37 M681.91 1513.66 Q687.72 1513.66 690.776 1518.27 Q693.855 1522.85 693.855 1531.6 Q693.855 1540.33 690.776 1544.94 Q687.72 1549.52 681.91 1549.52 Q676.1 1549.52 673.021 1544.94 Q669.966 1540.33 669.966 1531.6 Q669.966 1522.85 673.021 1518.27 Q676.1 1513.66 681.91 1513.66 Z\" fill=\"#000000\" fill-rule=\"nonzero\" fill-opacity=\"1\" /><path clip-path=\"url(#clip900)\" d=\"M702.072 1542.97 L706.956 1542.97 L706.956 1548.85 L702.072 1548.85 L702.072 1542.97 Z\" fill=\"#000000\" fill-rule=\"nonzero\" fill-opacity=\"1\" /><path clip-path=\"url(#clip900)\" d=\"M717.188 1514.29 L735.544 1514.29 L735.544 1518.22 L721.47 1518.22 L721.47 1526.7 Q722.489 1526.35 723.507 1526.19 Q724.526 1526 725.544 1526 Q731.331 1526 734.711 1529.17 Q738.09 1532.34 738.09 1537.76 Q738.09 1543.34 734.618 1546.44 Q731.146 1549.52 724.827 1549.52 Q722.651 1549.52 720.382 1549.15 Q718.137 1548.78 715.729 1548.04 L715.729 1543.34 Q717.813 1544.47 720.035 1545.03 Q722.257 1545.58 724.734 1545.58 Q728.739 1545.58 731.077 1543.48 Q733.415 1541.37 733.415 1537.76 Q733.415 1534.15 731.077 1532.04 Q728.739 1529.94 724.734 1529.94 Q722.859 1529.94 720.984 1530.35 Q719.132 1530.77 717.188 1531.65 L717.188 1514.29 Z\" fill=\"#000000\" fill-rule=\"nonzero\" fill-opacity=\"1\" /><path clip-path=\"url(#clip900)\" d=\"M1199.62 1544.91 L1207.26 1544.91 L1207.26 1518.55 L1198.95 1520.21 L1198.95 1515.95 L1207.21 1514.29 L1211.89 1514.29 L1211.89 1544.91 L1219.53 1544.91 L1219.53 1548.85 L1199.62 1548.85 L1199.62 1544.91 Z\" fill=\"#000000\" fill-rule=\"nonzero\" fill-opacity=\"1\" /><path clip-path=\"url(#clip900)\" d=\"M1228.97 1542.97 L1233.86 1542.97 L1233.86 1548.85 L1228.97 1548.85 L1228.97 1542.97 Z\" fill=\"#000000\" fill-rule=\"nonzero\" fill-opacity=\"1\" /><path clip-path=\"url(#clip900)\" d=\"M1254.04 1517.37 Q1250.43 1517.37 1248.6 1520.93 Q1246.8 1524.47 1246.8 1531.6 Q1246.8 1538.71 1248.6 1542.27 Q1250.43 1545.82 1254.04 1545.82 Q1257.67 1545.82 1259.48 1542.27 Q1261.31 1538.71 1261.31 1531.6 Q1261.31 1524.47 1259.48 1520.93 Q1257.67 1517.37 1254.04 1517.37 M1254.04 1513.66 Q1259.85 1513.66 1262.91 1518.27 Q1265.98 1522.85 1265.98 1531.6 Q1265.98 1540.33 1262.91 1544.94 Q1259.85 1549.52 1254.04 1549.52 Q1248.23 1549.52 1245.15 1544.94 Q1242.1 1540.33 1242.1 1531.6 Q1242.1 1522.85 1245.15 1518.27 Q1248.23 1513.66 1254.04 1513.66 Z\" fill=\"#000000\" fill-rule=\"nonzero\" fill-opacity=\"1\" /><path clip-path=\"url(#clip900)\" d=\"M1728.56 1544.91 L1736.19 1544.91 L1736.19 1518.55 L1727.88 1520.21 L1727.88 1515.95 L1736.15 1514.29 L1740.82 1514.29 L1740.82 1544.91 L1748.46 1544.91 L1748.46 1548.85 L1728.56 1548.85 L1728.56 1544.91 Z\" fill=\"#000000\" fill-rule=\"nonzero\" fill-opacity=\"1\" /><path clip-path=\"url(#clip900)\" d=\"M1757.91 1542.97 L1762.79 1542.97 L1762.79 1548.85 L1757.91 1548.85 L1757.91 1542.97 Z\" fill=\"#000000\" fill-rule=\"nonzero\" fill-opacity=\"1\" /><path clip-path=\"url(#clip900)\" d=\"M1773.02 1514.29 L1791.38 1514.29 L1791.38 1518.22 L1777.31 1518.22 L1777.31 1526.7 Q1778.32 1526.35 1779.34 1526.19 Q1780.36 1526 1781.38 1526 Q1787.17 1526 1790.55 1529.17 Q1793.93 1532.34 1793.93 1537.76 Q1793.93 1543.34 1790.45 1546.44 Q1786.98 1549.52 1780.66 1549.52 Q1778.49 1549.52 1776.22 1549.15 Q1773.97 1548.78 1771.56 1548.04 L1771.56 1543.34 Q1773.65 1544.47 1775.87 1545.03 Q1778.09 1545.58 1780.57 1545.58 Q1784.57 1545.58 1786.91 1543.48 Q1789.25 1541.37 1789.25 1537.76 Q1789.25 1534.15 1786.91 1532.04 Q1784.57 1529.94 1780.57 1529.94 Q1778.69 1529.94 1776.82 1530.35 Q1774.97 1530.77 1773.02 1531.65 L1773.02 1514.29 Z\" fill=\"#000000\" fill-rule=\"nonzero\" fill-opacity=\"1\" /><path clip-path=\"url(#clip900)\" d=\"M2260.58 1544.91 L2276.9 1544.91 L2276.9 1548.85 L2254.96 1548.85 L2254.96 1544.91 Q2257.62 1542.16 2262.2 1537.53 Q2266.81 1532.88 2267.99 1531.53 Q2270.23 1529.01 2271.11 1527.27 Q2272.02 1525.51 2272.02 1523.82 Q2272.02 1521.07 2270.07 1519.33 Q2268.15 1517.6 2265.05 1517.6 Q2262.85 1517.6 2260.4 1518.36 Q2257.97 1519.13 2255.19 1520.68 L2255.19 1515.95 Q2258.01 1514.82 2260.47 1514.24 Q2262.92 1513.66 2264.96 1513.66 Q2270.33 1513.66 2273.52 1516.35 Q2276.72 1519.03 2276.72 1523.52 Q2276.72 1525.65 2275.91 1527.57 Q2275.12 1529.47 2273.01 1532.07 Q2272.43 1532.74 2269.33 1535.95 Q2266.23 1539.15 2260.58 1544.91 Z\" fill=\"#000000\" fill-rule=\"nonzero\" fill-opacity=\"1\" /><path clip-path=\"url(#clip900)\" d=\"M2286.72 1542.97 L2291.6 1542.97 L2291.6 1548.85 L2286.72 1548.85 L2286.72 1542.97 Z\" fill=\"#000000\" fill-rule=\"nonzero\" fill-opacity=\"1\" /><path clip-path=\"url(#clip900)\" d=\"M2311.79 1517.37 Q2308.17 1517.37 2306.35 1520.93 Q2304.54 1524.47 2304.54 1531.6 Q2304.54 1538.71 2306.35 1542.27 Q2308.17 1545.82 2311.79 1545.82 Q2315.42 1545.82 2317.23 1542.27 Q2319.05 1538.71 2319.05 1531.6 Q2319.05 1524.47 2317.23 1520.93 Q2315.42 1517.37 2311.79 1517.37 M2311.79 1513.66 Q2317.6 1513.66 2320.65 1518.27 Q2323.73 1522.85 2323.73 1531.6 Q2323.73 1540.33 2320.65 1544.94 Q2317.6 1549.52 2311.79 1549.52 Q2305.98 1549.52 2302.9 1544.94 Q2299.84 1540.33 2299.84 1531.6 Q2299.84 1522.85 2302.9 1518.27 Q2305.98 1513.66 2311.79 1513.66 Z\" fill=\"#000000\" fill-rule=\"nonzero\" fill-opacity=\"1\" /><polyline clip-path=\"url(#clip902)\" style=\"stroke:#000000; stroke-linecap:round; stroke-linejoin:round; stroke-width:2; stroke-opacity:0.1; fill:none\" points=\"112.177,1445.72 2352.76,1445.72 \"/>\n",
       "<polyline clip-path=\"url(#clip902)\" style=\"stroke:#000000; stroke-linecap:round; stroke-linejoin:round; stroke-width:2; stroke-opacity:0.1; fill:none\" points=\"112.177,1233.21 2352.76,1233.21 \"/>\n",
       "<polyline clip-path=\"url(#clip902)\" style=\"stroke:#000000; stroke-linecap:round; stroke-linejoin:round; stroke-width:2; stroke-opacity:0.1; fill:none\" points=\"112.177,1020.7 2352.76,1020.7 \"/>\n",
       "<polyline clip-path=\"url(#clip902)\" style=\"stroke:#000000; stroke-linecap:round; stroke-linejoin:round; stroke-width:2; stroke-opacity:0.1; fill:none\" points=\"112.177,808.185 2352.76,808.185 \"/>\n",
       "<polyline clip-path=\"url(#clip902)\" style=\"stroke:#000000; stroke-linecap:round; stroke-linejoin:round; stroke-width:2; stroke-opacity:0.1; fill:none\" points=\"112.177,595.675 2352.76,595.675 \"/>\n",
       "<polyline clip-path=\"url(#clip902)\" style=\"stroke:#000000; stroke-linecap:round; stroke-linejoin:round; stroke-width:2; stroke-opacity:0.1; fill:none\" points=\"112.177,383.165 2352.76,383.165 \"/>\n",
       "<polyline clip-path=\"url(#clip902)\" style=\"stroke:#000000; stroke-linecap:round; stroke-linejoin:round; stroke-width:2; stroke-opacity:0.1; fill:none\" points=\"112.177,170.655 2352.76,170.655 \"/>\n",
       "<polyline clip-path=\"url(#clip900)\" style=\"stroke:#000000; stroke-linecap:round; stroke-linejoin:round; stroke-width:4; stroke-opacity:1; fill:none\" points=\"112.177,1486.45 112.177,47.2441 \"/>\n",
       "<polyline clip-path=\"url(#clip900)\" style=\"stroke:#000000; stroke-linecap:round; stroke-linejoin:round; stroke-width:4; stroke-opacity:1; fill:none\" points=\"112.177,1445.72 131.075,1445.72 \"/>\n",
       "<polyline clip-path=\"url(#clip900)\" style=\"stroke:#000000; stroke-linecap:round; stroke-linejoin:round; stroke-width:4; stroke-opacity:1; fill:none\" points=\"112.177,1233.21 131.075,1233.21 \"/>\n",
       "<polyline clip-path=\"url(#clip900)\" style=\"stroke:#000000; stroke-linecap:round; stroke-linejoin:round; stroke-width:4; stroke-opacity:1; fill:none\" points=\"112.177,1020.7 131.075,1020.7 \"/>\n",
       "<polyline clip-path=\"url(#clip900)\" style=\"stroke:#000000; stroke-linecap:round; stroke-linejoin:round; stroke-width:4; stroke-opacity:1; fill:none\" points=\"112.177,808.185 131.075,808.185 \"/>\n",
       "<polyline clip-path=\"url(#clip900)\" style=\"stroke:#000000; stroke-linecap:round; stroke-linejoin:round; stroke-width:4; stroke-opacity:1; fill:none\" points=\"112.177,595.675 131.075,595.675 \"/>\n",
       "<polyline clip-path=\"url(#clip900)\" style=\"stroke:#000000; stroke-linecap:round; stroke-linejoin:round; stroke-width:4; stroke-opacity:1; fill:none\" points=\"112.177,383.165 131.075,383.165 \"/>\n",
       "<polyline clip-path=\"url(#clip900)\" style=\"stroke:#000000; stroke-linecap:round; stroke-linejoin:round; stroke-width:4; stroke-opacity:1; fill:none\" points=\"112.177,170.655 131.075,170.655 \"/>\n",
       "<path clip-path=\"url(#clip900)\" d=\"M56.2699 1459.06 L63.9087 1459.06 L63.9087 1432.69 L55.5986 1434.36 L55.5986 1430.1 L63.8624 1428.44 L68.5383 1428.44 L68.5383 1459.06 L76.1772 1459.06 L76.1772 1463 L56.2699 1463 L56.2699 1459.06 Z\" fill=\"#000000\" fill-rule=\"nonzero\" fill-opacity=\"1\" /><path clip-path=\"url(#clip900)\" d=\"M59.8578 1246.55 L76.1772 1246.55 L76.1772 1250.49 L54.2328 1250.49 L54.2328 1246.55 Q56.8949 1243.8 61.4782 1239.17 Q66.0846 1234.51 67.2652 1233.17 Q69.5105 1230.65 70.3902 1228.91 Q71.2929 1227.15 71.2929 1225.46 Q71.2929 1222.71 69.3485 1220.97 Q67.4272 1219.24 64.3254 1219.24 Q62.1263 1219.24 59.6726 1220 Q57.2421 1220.76 54.4643 1222.31 L54.4643 1217.59 Q57.2884 1216.46 59.7421 1215.88 Q62.1958 1215.3 64.2328 1215.3 Q69.6031 1215.3 72.7976 1217.99 Q75.992 1220.67 75.992 1225.16 Q75.992 1227.29 75.1818 1229.21 Q74.3948 1231.11 72.2883 1233.7 Q71.7096 1234.37 68.6078 1237.59 Q65.5059 1240.79 59.8578 1246.55 Z\" fill=\"#000000\" fill-rule=\"nonzero\" fill-opacity=\"1\" /><path clip-path=\"url(#clip900)\" d=\"M69.0476 1019.34 Q72.404 1020.06 74.279 1022.33 Q76.1772 1024.6 76.1772 1027.93 Q76.1772 1033.04 72.6587 1035.85 Q69.1402 1038.65 62.6587 1038.65 Q60.4828 1038.65 58.168 1038.21 Q55.8764 1037.79 53.4227 1036.93 L53.4227 1032.42 Q55.3671 1033.55 57.6819 1034.13 Q59.9967 1034.71 62.5198 1034.71 Q66.918 1034.71 69.2096 1032.98 Q71.5244 1031.24 71.5244 1027.93 Q71.5244 1024.87 69.3717 1023.16 Q67.242 1021.42 63.4226 1021.42 L59.3949 1021.42 L59.3949 1017.58 L63.6078 1017.58 Q67.0569 1017.58 68.8855 1016.22 Q70.7142 1014.83 70.7142 1012.23 Q70.7142 1009.57 68.8161 1008.16 Q66.9411 1006.73 63.4226 1006.73 Q61.5013 1006.73 59.3023 1007.14 Q57.1032 1007.56 54.4643 1008.44 L54.4643 1004.27 Q57.1264 1003.53 59.4412 1003.16 Q61.7791 1002.79 63.8393 1002.79 Q69.1633 1002.79 72.2652 1005.22 Q75.367 1007.63 75.367 1011.75 Q75.367 1014.62 73.7235 1016.61 Q72.08 1018.58 69.0476 1019.34 Z\" fill=\"#000000\" fill-rule=\"nonzero\" fill-opacity=\"1\" /><path clip-path=\"url(#clip900)\" d=\"M66.5939 794.979 L54.7884 813.428 L66.5939 813.428 L66.5939 794.979 M65.367 790.905 L71.2466 790.905 L71.2466 813.428 L76.1772 813.428 L76.1772 817.317 L71.2466 817.317 L71.2466 825.465 L66.5939 825.465 L66.5939 817.317 L50.9921 817.317 L50.9921 812.803 L65.367 790.905 Z\" fill=\"#000000\" fill-rule=\"nonzero\" fill-opacity=\"1\" /><path clip-path=\"url(#clip900)\" d=\"M55.2745 578.395 L73.6309 578.395 L73.6309 582.33 L59.5569 582.33 L59.5569 590.802 Q60.5754 590.455 61.5939 590.293 Q62.6124 590.108 63.6309 590.108 Q69.418 590.108 72.7976 593.279 Q76.1772 596.45 76.1772 601.867 Q76.1772 607.446 72.705 610.548 Q69.2328 613.626 62.9134 613.626 Q60.7374 613.626 58.4689 613.256 Q56.2236 612.886 53.8162 612.145 L53.8162 607.446 Q55.8995 608.58 58.1217 609.136 Q60.3439 609.691 62.8208 609.691 Q66.8254 609.691 69.1633 607.585 Q71.5013 605.478 71.5013 601.867 Q71.5013 598.256 69.1633 596.15 Q66.8254 594.043 62.8208 594.043 Q60.9458 594.043 59.0708 594.46 Q57.2189 594.876 55.2745 595.756 L55.2745 578.395 Z\" fill=\"#000000\" fill-rule=\"nonzero\" fill-opacity=\"1\" /><path clip-path=\"url(#clip900)\" d=\"M64.6495 381.301 Q61.5013 381.301 59.6495 383.454 Q57.8208 385.607 57.8208 389.357 Q57.8208 393.084 59.6495 395.26 Q61.5013 397.412 64.6495 397.412 Q67.7976 397.412 69.6263 395.26 Q71.4781 393.084 71.4781 389.357 Q71.4781 385.607 69.6263 383.454 Q67.7976 381.301 64.6495 381.301 M73.9318 366.649 L73.9318 370.908 Q72.1726 370.075 70.367 369.635 Q68.5846 369.195 66.8254 369.195 Q62.1958 369.195 59.7421 372.32 Q57.3115 375.445 56.9643 381.764 Q58.33 379.75 60.3902 378.686 Q62.4504 377.598 64.9272 377.598 Q70.1355 377.598 73.1448 380.769 Q76.1772 383.917 76.1772 389.357 Q76.1772 394.681 73.029 397.899 Q69.8809 401.116 64.6495 401.116 Q58.6541 401.116 55.4828 396.533 Q52.3116 391.926 52.3116 383.2 Q52.3116 375.005 56.2004 370.144 Q60.0893 365.26 66.6402 365.26 Q68.3994 365.26 70.1818 365.607 Q71.9874 365.954 73.9318 366.649 Z\" fill=\"#000000\" fill-rule=\"nonzero\" fill-opacity=\"1\" /><path clip-path=\"url(#clip900)\" d=\"M53.9551 153.375 L76.1772 153.375 L76.1772 155.365 L63.6309 187.935 L58.7467 187.935 L70.5522 157.31 L53.9551 157.31 L53.9551 153.375 Z\" fill=\"#000000\" fill-rule=\"nonzero\" fill-opacity=\"1\" /><polyline clip-path=\"url(#clip902)\" style=\"stroke:#009af9; stroke-linecap:round; stroke-linejoin:round; stroke-width:4; stroke-opacity:1; fill:none\" points=\"175.59,1445.72 386.965,1398.87 598.34,1341.58 809.716,1271.54 1021.09,1185.93 1232.47,1081.3 1443.84,953.438 1655.22,797.195 1866.59,606.28 2077.97,373.005 2289.34,87.9763 \"/>\n",
       "<polyline clip-path=\"url(#clip902)\" style=\"stroke:#e26f46; stroke-linecap:round; stroke-linejoin:round; stroke-width:4; stroke-opacity:1; fill:none\" points=\"175.59,1445.72 386.965,1399.2 598.34,1342.25 809.716,1272.58 915.404,1232.12 1126.78,1137.94 1655.22,798.86 1760.9,707.938 2077.97,373.594 2183.66,237.899 2289.34,87.9763 \"/>\n",
       "<path clip-path=\"url(#clip900)\" d=\"M186.863 250.738 L463.351 250.738 L463.351 95.2176 L186.863 95.2176  Z\" fill=\"#ffffff\" fill-rule=\"evenodd\" fill-opacity=\"1\"/>\n",
       "<polyline clip-path=\"url(#clip900)\" style=\"stroke:#000000; stroke-linecap:round; stroke-linejoin:round; stroke-width:4; stroke-opacity:1; fill:none\" points=\"186.863,250.738 463.351,250.738 463.351,95.2176 186.863,95.2176 186.863,250.738 \"/>\n",
       "<polyline clip-path=\"url(#clip900)\" style=\"stroke:#009af9; stroke-linecap:round; stroke-linejoin:round; stroke-width:4; stroke-opacity:1; fill:none\" points=\"211.758,147.058 361.13,147.058 \"/>\n",
       "<path clip-path=\"url(#clip900)\" d=\"M399.868 166.745 Q398.063 171.375 396.35 172.787 Q394.637 174.199 391.766 174.199 L388.364 174.199 L388.364 170.634 L390.864 170.634 Q392.623 170.634 393.595 169.8 Q394.567 168.967 395.748 165.865 L396.512 163.921 L386.026 138.412 L390.54 138.412 L398.641 158.689 L406.743 138.412 L411.257 138.412 L399.868 166.745 Z\" fill=\"#000000\" fill-rule=\"nonzero\" fill-opacity=\"1\" /><path clip-path=\"url(#clip900)\" d=\"M418.549 160.402 L426.188 160.402 L426.188 134.037 L417.877 135.703 L417.877 131.444 L426.141 129.778 L430.817 129.778 L430.817 160.402 L438.456 160.402 L438.456 164.338 L418.549 164.338 L418.549 160.402 Z\" fill=\"#000000\" fill-rule=\"nonzero\" fill-opacity=\"1\" /><polyline clip-path=\"url(#clip900)\" style=\"stroke:#e26f46; stroke-linecap:round; stroke-linejoin:round; stroke-width:4; stroke-opacity:1; fill:none\" points=\"211.758,198.898 361.13,198.898 \"/>\n",
       "<path clip-path=\"url(#clip900)\" d=\"M399.868 218.585 Q398.063 223.215 396.35 224.627 Q394.637 226.039 391.766 226.039 L388.364 226.039 L388.364 222.474 L390.864 222.474 Q392.623 222.474 393.595 221.64 Q394.567 220.807 395.748 217.705 L396.512 215.761 L386.026 190.252 L390.54 190.252 L398.641 210.529 L406.743 190.252 L411.257 190.252 L399.868 218.585 Z\" fill=\"#000000\" fill-rule=\"nonzero\" fill-opacity=\"1\" /><path clip-path=\"url(#clip900)\" d=\"M421.766 212.242 L438.086 212.242 L438.086 216.178 L416.141 216.178 L416.141 212.242 Q418.803 209.488 423.387 204.858 Q427.993 200.205 429.174 198.863 Q431.419 196.34 432.299 194.604 Q433.201 192.844 433.201 191.155 Q433.201 188.4 431.257 186.664 Q429.336 184.928 426.234 184.928 Q424.035 184.928 421.581 185.692 Q419.151 186.455 416.373 188.006 L416.373 183.284 Q419.197 182.15 421.65 181.571 Q424.104 180.993 426.141 180.993 Q431.512 180.993 434.706 183.678 Q437.9 186.363 437.9 190.854 Q437.9 192.983 437.09 194.905 Q436.303 196.803 434.197 199.395 Q433.618 200.067 430.516 203.284 Q427.414 206.479 421.766 212.242 Z\" fill=\"#000000\" fill-rule=\"nonzero\" fill-opacity=\"1\" /></svg>\n"
      ],
      "text/html": [
       "<?xml version=\"1.0\" encoding=\"utf-8\"?>\n",
       "<svg xmlns=\"http://www.w3.org/2000/svg\" xmlns:xlink=\"http://www.w3.org/1999/xlink\" width=\"600\" height=\"400\" viewBox=\"0 0 2400 1600\">\n",
       "<defs>\n",
       "  <clipPath id=\"clip950\">\n",
       "    <rect x=\"0\" y=\"0\" width=\"2400\" height=\"1600\"/>\n",
       "  </clipPath>\n",
       "</defs>\n",
       "<path clip-path=\"url(#clip950)\" d=\"M0 1600 L2400 1600 L2400 0 L0 0  Z\" fill=\"#ffffff\" fill-rule=\"evenodd\" fill-opacity=\"1\"/>\n",
       "<defs>\n",
       "  <clipPath id=\"clip951\">\n",
       "    <rect x=\"480\" y=\"0\" width=\"1681\" height=\"1600\"/>\n",
       "  </clipPath>\n",
       "</defs>\n",
       "<path clip-path=\"url(#clip950)\" d=\"M112.177 1486.45 L2352.76 1486.45 L2352.76 47.2441 L112.177 47.2441  Z\" fill=\"#ffffff\" fill-rule=\"evenodd\" fill-opacity=\"1\"/>\n",
       "<defs>\n",
       "  <clipPath id=\"clip952\">\n",
       "    <rect x=\"112\" y=\"47\" width=\"2242\" height=\"1440\"/>\n",
       "  </clipPath>\n",
       "</defs>\n",
       "<polyline clip-path=\"url(#clip952)\" style=\"stroke:#000000; stroke-linecap:round; stroke-linejoin:round; stroke-width:2; stroke-opacity:0.1; fill:none\" points=\"175.59,1486.45 175.59,47.2441 \"/>\n",
       "<polyline clip-path=\"url(#clip952)\" style=\"stroke:#000000; stroke-linecap:round; stroke-linejoin:round; stroke-width:2; stroke-opacity:0.1; fill:none\" points=\"704.028,1486.45 704.028,47.2441 \"/>\n",
       "<polyline clip-path=\"url(#clip952)\" style=\"stroke:#000000; stroke-linecap:round; stroke-linejoin:round; stroke-width:2; stroke-opacity:0.1; fill:none\" points=\"1232.47,1486.45 1232.47,47.2441 \"/>\n",
       "<polyline clip-path=\"url(#clip952)\" style=\"stroke:#000000; stroke-linecap:round; stroke-linejoin:round; stroke-width:2; stroke-opacity:0.1; fill:none\" points=\"1760.9,1486.45 1760.9,47.2441 \"/>\n",
       "<polyline clip-path=\"url(#clip952)\" style=\"stroke:#000000; stroke-linecap:round; stroke-linejoin:round; stroke-width:2; stroke-opacity:0.1; fill:none\" points=\"2289.34,1486.45 2289.34,47.2441 \"/>\n",
       "<polyline clip-path=\"url(#clip950)\" style=\"stroke:#000000; stroke-linecap:round; stroke-linejoin:round; stroke-width:4; stroke-opacity:1; fill:none\" points=\"112.177,1486.45 2352.76,1486.45 \"/>\n",
       "<polyline clip-path=\"url(#clip950)\" style=\"stroke:#000000; stroke-linecap:round; stroke-linejoin:round; stroke-width:4; stroke-opacity:1; fill:none\" points=\"175.59,1486.45 175.59,1467.55 \"/>\n",
       "<polyline clip-path=\"url(#clip950)\" style=\"stroke:#000000; stroke-linecap:round; stroke-linejoin:round; stroke-width:4; stroke-opacity:1; fill:none\" points=\"704.028,1486.45 704.028,1467.55 \"/>\n",
       "<polyline clip-path=\"url(#clip950)\" style=\"stroke:#000000; stroke-linecap:round; stroke-linejoin:round; stroke-width:4; stroke-opacity:1; fill:none\" points=\"1232.47,1486.45 1232.47,1467.55 \"/>\n",
       "<polyline clip-path=\"url(#clip950)\" style=\"stroke:#000000; stroke-linecap:round; stroke-linejoin:round; stroke-width:4; stroke-opacity:1; fill:none\" points=\"1760.9,1486.45 1760.9,1467.55 \"/>\n",
       "<polyline clip-path=\"url(#clip950)\" style=\"stroke:#000000; stroke-linecap:round; stroke-linejoin:round; stroke-width:4; stroke-opacity:1; fill:none\" points=\"2289.34,1486.45 2289.34,1467.55 \"/>\n",
       "<path clip-path=\"url(#clip950)\" d=\"M152.974 1517.37 Q149.363 1517.37 147.534 1520.93 Q145.729 1524.47 145.729 1531.6 Q145.729 1538.71 147.534 1542.27 Q149.363 1545.82 152.974 1545.82 Q156.608 1545.82 158.414 1542.27 Q160.243 1538.71 160.243 1531.6 Q160.243 1524.47 158.414 1520.93 Q156.608 1517.37 152.974 1517.37 M152.974 1513.66 Q158.784 1513.66 161.84 1518.27 Q164.919 1522.85 164.919 1531.6 Q164.919 1540.33 161.84 1544.94 Q158.784 1549.52 152.974 1549.52 Q147.164 1549.52 144.085 1544.94 Q141.03 1540.33 141.03 1531.6 Q141.03 1522.85 144.085 1518.27 Q147.164 1513.66 152.974 1513.66 Z\" fill=\"#000000\" fill-rule=\"nonzero\" fill-opacity=\"1\" /><path clip-path=\"url(#clip950)\" d=\"M173.136 1542.97 L178.02 1542.97 L178.02 1548.85 L173.136 1548.85 L173.136 1542.97 Z\" fill=\"#000000\" fill-rule=\"nonzero\" fill-opacity=\"1\" /><path clip-path=\"url(#clip950)\" d=\"M198.205 1517.37 Q194.594 1517.37 192.766 1520.93 Q190.96 1524.47 190.96 1531.6 Q190.96 1538.71 192.766 1542.27 Q194.594 1545.82 198.205 1545.82 Q201.84 1545.82 203.645 1542.27 Q205.474 1538.71 205.474 1531.6 Q205.474 1524.47 203.645 1520.93 Q201.84 1517.37 198.205 1517.37 M198.205 1513.66 Q204.016 1513.66 207.071 1518.27 Q210.15 1522.85 210.15 1531.6 Q210.15 1540.33 207.071 1544.94 Q204.016 1549.52 198.205 1549.52 Q192.395 1549.52 189.317 1544.94 Q186.261 1540.33 186.261 1531.6 Q186.261 1522.85 189.317 1518.27 Q192.395 1513.66 198.205 1513.66 Z\" fill=\"#000000\" fill-rule=\"nonzero\" fill-opacity=\"1\" /><path clip-path=\"url(#clip950)\" d=\"M681.91 1517.37 Q678.299 1517.37 676.47 1520.93 Q674.665 1524.47 674.665 1531.6 Q674.665 1538.71 676.47 1542.27 Q678.299 1545.82 681.91 1545.82 Q685.544 1545.82 687.35 1542.27 Q689.179 1538.71 689.179 1531.6 Q689.179 1524.47 687.35 1520.93 Q685.544 1517.37 681.91 1517.37 M681.91 1513.66 Q687.72 1513.66 690.776 1518.27 Q693.855 1522.85 693.855 1531.6 Q693.855 1540.33 690.776 1544.94 Q687.72 1549.52 681.91 1549.52 Q676.1 1549.52 673.021 1544.94 Q669.966 1540.33 669.966 1531.6 Q669.966 1522.85 673.021 1518.27 Q676.1 1513.66 681.91 1513.66 Z\" fill=\"#000000\" fill-rule=\"nonzero\" fill-opacity=\"1\" /><path clip-path=\"url(#clip950)\" d=\"M702.072 1542.97 L706.956 1542.97 L706.956 1548.85 L702.072 1548.85 L702.072 1542.97 Z\" fill=\"#000000\" fill-rule=\"nonzero\" fill-opacity=\"1\" /><path clip-path=\"url(#clip950)\" d=\"M717.188 1514.29 L735.544 1514.29 L735.544 1518.22 L721.47 1518.22 L721.47 1526.7 Q722.489 1526.35 723.507 1526.19 Q724.526 1526 725.544 1526 Q731.331 1526 734.711 1529.17 Q738.09 1532.34 738.09 1537.76 Q738.09 1543.34 734.618 1546.44 Q731.146 1549.52 724.827 1549.52 Q722.651 1549.52 720.382 1549.15 Q718.137 1548.78 715.729 1548.04 L715.729 1543.34 Q717.813 1544.47 720.035 1545.03 Q722.257 1545.58 724.734 1545.58 Q728.739 1545.58 731.077 1543.48 Q733.415 1541.37 733.415 1537.76 Q733.415 1534.15 731.077 1532.04 Q728.739 1529.94 724.734 1529.94 Q722.859 1529.94 720.984 1530.35 Q719.132 1530.77 717.188 1531.65 L717.188 1514.29 Z\" fill=\"#000000\" fill-rule=\"nonzero\" fill-opacity=\"1\" /><path clip-path=\"url(#clip950)\" d=\"M1199.62 1544.91 L1207.26 1544.91 L1207.26 1518.55 L1198.95 1520.21 L1198.95 1515.95 L1207.21 1514.29 L1211.89 1514.29 L1211.89 1544.91 L1219.53 1544.91 L1219.53 1548.85 L1199.62 1548.85 L1199.62 1544.91 Z\" fill=\"#000000\" fill-rule=\"nonzero\" fill-opacity=\"1\" /><path clip-path=\"url(#clip950)\" d=\"M1228.97 1542.97 L1233.86 1542.97 L1233.86 1548.85 L1228.97 1548.85 L1228.97 1542.97 Z\" fill=\"#000000\" fill-rule=\"nonzero\" fill-opacity=\"1\" /><path clip-path=\"url(#clip950)\" d=\"M1254.04 1517.37 Q1250.43 1517.37 1248.6 1520.93 Q1246.8 1524.47 1246.8 1531.6 Q1246.8 1538.71 1248.6 1542.27 Q1250.43 1545.82 1254.04 1545.82 Q1257.67 1545.82 1259.48 1542.27 Q1261.31 1538.71 1261.31 1531.6 Q1261.31 1524.47 1259.48 1520.93 Q1257.67 1517.37 1254.04 1517.37 M1254.04 1513.66 Q1259.85 1513.66 1262.91 1518.27 Q1265.98 1522.85 1265.98 1531.6 Q1265.98 1540.33 1262.91 1544.94 Q1259.85 1549.52 1254.04 1549.52 Q1248.23 1549.52 1245.15 1544.94 Q1242.1 1540.33 1242.1 1531.6 Q1242.1 1522.85 1245.15 1518.27 Q1248.23 1513.66 1254.04 1513.66 Z\" fill=\"#000000\" fill-rule=\"nonzero\" fill-opacity=\"1\" /><path clip-path=\"url(#clip950)\" d=\"M1728.56 1544.91 L1736.19 1544.91 L1736.19 1518.55 L1727.88 1520.21 L1727.88 1515.95 L1736.15 1514.29 L1740.82 1514.29 L1740.82 1544.91 L1748.46 1544.91 L1748.46 1548.85 L1728.56 1548.85 L1728.56 1544.91 Z\" fill=\"#000000\" fill-rule=\"nonzero\" fill-opacity=\"1\" /><path clip-path=\"url(#clip950)\" d=\"M1757.91 1542.97 L1762.79 1542.97 L1762.79 1548.85 L1757.91 1548.85 L1757.91 1542.97 Z\" fill=\"#000000\" fill-rule=\"nonzero\" fill-opacity=\"1\" /><path clip-path=\"url(#clip950)\" d=\"M1773.02 1514.29 L1791.38 1514.29 L1791.38 1518.22 L1777.31 1518.22 L1777.31 1526.7 Q1778.32 1526.35 1779.34 1526.19 Q1780.36 1526 1781.38 1526 Q1787.17 1526 1790.55 1529.17 Q1793.93 1532.34 1793.93 1537.76 Q1793.93 1543.34 1790.45 1546.44 Q1786.98 1549.52 1780.66 1549.52 Q1778.49 1549.52 1776.22 1549.15 Q1773.97 1548.78 1771.56 1548.04 L1771.56 1543.34 Q1773.65 1544.47 1775.87 1545.03 Q1778.09 1545.58 1780.57 1545.58 Q1784.57 1545.58 1786.91 1543.48 Q1789.25 1541.37 1789.25 1537.76 Q1789.25 1534.15 1786.91 1532.04 Q1784.57 1529.94 1780.57 1529.94 Q1778.69 1529.94 1776.82 1530.35 Q1774.97 1530.77 1773.02 1531.65 L1773.02 1514.29 Z\" fill=\"#000000\" fill-rule=\"nonzero\" fill-opacity=\"1\" /><path clip-path=\"url(#clip950)\" d=\"M2260.58 1544.91 L2276.9 1544.91 L2276.9 1548.85 L2254.96 1548.85 L2254.96 1544.91 Q2257.62 1542.16 2262.2 1537.53 Q2266.81 1532.88 2267.99 1531.53 Q2270.23 1529.01 2271.11 1527.27 Q2272.02 1525.51 2272.02 1523.82 Q2272.02 1521.07 2270.07 1519.33 Q2268.15 1517.6 2265.05 1517.6 Q2262.85 1517.6 2260.4 1518.36 Q2257.97 1519.13 2255.19 1520.68 L2255.19 1515.95 Q2258.01 1514.82 2260.47 1514.24 Q2262.92 1513.66 2264.96 1513.66 Q2270.33 1513.66 2273.52 1516.35 Q2276.72 1519.03 2276.72 1523.52 Q2276.72 1525.65 2275.91 1527.57 Q2275.12 1529.47 2273.01 1532.07 Q2272.43 1532.74 2269.33 1535.95 Q2266.23 1539.15 2260.58 1544.91 Z\" fill=\"#000000\" fill-rule=\"nonzero\" fill-opacity=\"1\" /><path clip-path=\"url(#clip950)\" d=\"M2286.72 1542.97 L2291.6 1542.97 L2291.6 1548.85 L2286.72 1548.85 L2286.72 1542.97 Z\" fill=\"#000000\" fill-rule=\"nonzero\" fill-opacity=\"1\" /><path clip-path=\"url(#clip950)\" d=\"M2311.79 1517.37 Q2308.17 1517.37 2306.35 1520.93 Q2304.54 1524.47 2304.54 1531.6 Q2304.54 1538.71 2306.35 1542.27 Q2308.17 1545.82 2311.79 1545.82 Q2315.42 1545.82 2317.23 1542.27 Q2319.05 1538.71 2319.05 1531.6 Q2319.05 1524.47 2317.23 1520.93 Q2315.42 1517.37 2311.79 1517.37 M2311.79 1513.66 Q2317.6 1513.66 2320.65 1518.27 Q2323.73 1522.85 2323.73 1531.6 Q2323.73 1540.33 2320.65 1544.94 Q2317.6 1549.52 2311.79 1549.52 Q2305.98 1549.52 2302.9 1544.94 Q2299.84 1540.33 2299.84 1531.6 Q2299.84 1522.85 2302.9 1518.27 Q2305.98 1513.66 2311.79 1513.66 Z\" fill=\"#000000\" fill-rule=\"nonzero\" fill-opacity=\"1\" /><polyline clip-path=\"url(#clip952)\" style=\"stroke:#000000; stroke-linecap:round; stroke-linejoin:round; stroke-width:2; stroke-opacity:0.1; fill:none\" points=\"112.177,1445.72 2352.76,1445.72 \"/>\n",
       "<polyline clip-path=\"url(#clip952)\" style=\"stroke:#000000; stroke-linecap:round; stroke-linejoin:round; stroke-width:2; stroke-opacity:0.1; fill:none\" points=\"112.177,1233.21 2352.76,1233.21 \"/>\n",
       "<polyline clip-path=\"url(#clip952)\" style=\"stroke:#000000; stroke-linecap:round; stroke-linejoin:round; stroke-width:2; stroke-opacity:0.1; fill:none\" points=\"112.177,1020.7 2352.76,1020.7 \"/>\n",
       "<polyline clip-path=\"url(#clip952)\" style=\"stroke:#000000; stroke-linecap:round; stroke-linejoin:round; stroke-width:2; stroke-opacity:0.1; fill:none\" points=\"112.177,808.185 2352.76,808.185 \"/>\n",
       "<polyline clip-path=\"url(#clip952)\" style=\"stroke:#000000; stroke-linecap:round; stroke-linejoin:round; stroke-width:2; stroke-opacity:0.1; fill:none\" points=\"112.177,595.675 2352.76,595.675 \"/>\n",
       "<polyline clip-path=\"url(#clip952)\" style=\"stroke:#000000; stroke-linecap:round; stroke-linejoin:round; stroke-width:2; stroke-opacity:0.1; fill:none\" points=\"112.177,383.165 2352.76,383.165 \"/>\n",
       "<polyline clip-path=\"url(#clip952)\" style=\"stroke:#000000; stroke-linecap:round; stroke-linejoin:round; stroke-width:2; stroke-opacity:0.1; fill:none\" points=\"112.177,170.655 2352.76,170.655 \"/>\n",
       "<polyline clip-path=\"url(#clip950)\" style=\"stroke:#000000; stroke-linecap:round; stroke-linejoin:round; stroke-width:4; stroke-opacity:1; fill:none\" points=\"112.177,1486.45 112.177,47.2441 \"/>\n",
       "<polyline clip-path=\"url(#clip950)\" style=\"stroke:#000000; stroke-linecap:round; stroke-linejoin:round; stroke-width:4; stroke-opacity:1; fill:none\" points=\"112.177,1445.72 131.075,1445.72 \"/>\n",
       "<polyline clip-path=\"url(#clip950)\" style=\"stroke:#000000; stroke-linecap:round; stroke-linejoin:round; stroke-width:4; stroke-opacity:1; fill:none\" points=\"112.177,1233.21 131.075,1233.21 \"/>\n",
       "<polyline clip-path=\"url(#clip950)\" style=\"stroke:#000000; stroke-linecap:round; stroke-linejoin:round; stroke-width:4; stroke-opacity:1; fill:none\" points=\"112.177,1020.7 131.075,1020.7 \"/>\n",
       "<polyline clip-path=\"url(#clip950)\" style=\"stroke:#000000; stroke-linecap:round; stroke-linejoin:round; stroke-width:4; stroke-opacity:1; fill:none\" points=\"112.177,808.185 131.075,808.185 \"/>\n",
       "<polyline clip-path=\"url(#clip950)\" style=\"stroke:#000000; stroke-linecap:round; stroke-linejoin:round; stroke-width:4; stroke-opacity:1; fill:none\" points=\"112.177,595.675 131.075,595.675 \"/>\n",
       "<polyline clip-path=\"url(#clip950)\" style=\"stroke:#000000; stroke-linecap:round; stroke-linejoin:round; stroke-width:4; stroke-opacity:1; fill:none\" points=\"112.177,383.165 131.075,383.165 \"/>\n",
       "<polyline clip-path=\"url(#clip950)\" style=\"stroke:#000000; stroke-linecap:round; stroke-linejoin:round; stroke-width:4; stroke-opacity:1; fill:none\" points=\"112.177,170.655 131.075,170.655 \"/>\n",
       "<path clip-path=\"url(#clip950)\" d=\"M56.2699 1459.06 L63.9087 1459.06 L63.9087 1432.69 L55.5986 1434.36 L55.5986 1430.1 L63.8624 1428.44 L68.5383 1428.44 L68.5383 1459.06 L76.1772 1459.06 L76.1772 1463 L56.2699 1463 L56.2699 1459.06 Z\" fill=\"#000000\" fill-rule=\"nonzero\" fill-opacity=\"1\" /><path clip-path=\"url(#clip950)\" d=\"M59.8578 1246.55 L76.1772 1246.55 L76.1772 1250.49 L54.2328 1250.49 L54.2328 1246.55 Q56.8949 1243.8 61.4782 1239.17 Q66.0846 1234.51 67.2652 1233.17 Q69.5105 1230.65 70.3902 1228.91 Q71.2929 1227.15 71.2929 1225.46 Q71.2929 1222.71 69.3485 1220.97 Q67.4272 1219.24 64.3254 1219.24 Q62.1263 1219.24 59.6726 1220 Q57.2421 1220.76 54.4643 1222.31 L54.4643 1217.59 Q57.2884 1216.46 59.7421 1215.88 Q62.1958 1215.3 64.2328 1215.3 Q69.6031 1215.3 72.7976 1217.99 Q75.992 1220.67 75.992 1225.16 Q75.992 1227.29 75.1818 1229.21 Q74.3948 1231.11 72.2883 1233.7 Q71.7096 1234.37 68.6078 1237.59 Q65.5059 1240.79 59.8578 1246.55 Z\" fill=\"#000000\" fill-rule=\"nonzero\" fill-opacity=\"1\" /><path clip-path=\"url(#clip950)\" d=\"M69.0476 1019.34 Q72.404 1020.06 74.279 1022.33 Q76.1772 1024.6 76.1772 1027.93 Q76.1772 1033.04 72.6587 1035.85 Q69.1402 1038.65 62.6587 1038.65 Q60.4828 1038.65 58.168 1038.21 Q55.8764 1037.79 53.4227 1036.93 L53.4227 1032.42 Q55.3671 1033.55 57.6819 1034.13 Q59.9967 1034.71 62.5198 1034.71 Q66.918 1034.71 69.2096 1032.98 Q71.5244 1031.24 71.5244 1027.93 Q71.5244 1024.87 69.3717 1023.16 Q67.242 1021.42 63.4226 1021.42 L59.3949 1021.42 L59.3949 1017.58 L63.6078 1017.58 Q67.0569 1017.58 68.8855 1016.22 Q70.7142 1014.83 70.7142 1012.23 Q70.7142 1009.57 68.8161 1008.16 Q66.9411 1006.73 63.4226 1006.73 Q61.5013 1006.73 59.3023 1007.14 Q57.1032 1007.56 54.4643 1008.44 L54.4643 1004.27 Q57.1264 1003.53 59.4412 1003.16 Q61.7791 1002.79 63.8393 1002.79 Q69.1633 1002.79 72.2652 1005.22 Q75.367 1007.63 75.367 1011.75 Q75.367 1014.62 73.7235 1016.61 Q72.08 1018.58 69.0476 1019.34 Z\" fill=\"#000000\" fill-rule=\"nonzero\" fill-opacity=\"1\" /><path clip-path=\"url(#clip950)\" d=\"M66.5939 794.979 L54.7884 813.428 L66.5939 813.428 L66.5939 794.979 M65.367 790.905 L71.2466 790.905 L71.2466 813.428 L76.1772 813.428 L76.1772 817.317 L71.2466 817.317 L71.2466 825.465 L66.5939 825.465 L66.5939 817.317 L50.9921 817.317 L50.9921 812.803 L65.367 790.905 Z\" fill=\"#000000\" fill-rule=\"nonzero\" fill-opacity=\"1\" /><path clip-path=\"url(#clip950)\" d=\"M55.2745 578.395 L73.6309 578.395 L73.6309 582.33 L59.5569 582.33 L59.5569 590.802 Q60.5754 590.455 61.5939 590.293 Q62.6124 590.108 63.6309 590.108 Q69.418 590.108 72.7976 593.279 Q76.1772 596.45 76.1772 601.867 Q76.1772 607.446 72.705 610.548 Q69.2328 613.626 62.9134 613.626 Q60.7374 613.626 58.4689 613.256 Q56.2236 612.886 53.8162 612.145 L53.8162 607.446 Q55.8995 608.58 58.1217 609.136 Q60.3439 609.691 62.8208 609.691 Q66.8254 609.691 69.1633 607.585 Q71.5013 605.478 71.5013 601.867 Q71.5013 598.256 69.1633 596.15 Q66.8254 594.043 62.8208 594.043 Q60.9458 594.043 59.0708 594.46 Q57.2189 594.876 55.2745 595.756 L55.2745 578.395 Z\" fill=\"#000000\" fill-rule=\"nonzero\" fill-opacity=\"1\" /><path clip-path=\"url(#clip950)\" d=\"M64.6495 381.301 Q61.5013 381.301 59.6495 383.454 Q57.8208 385.607 57.8208 389.357 Q57.8208 393.084 59.6495 395.26 Q61.5013 397.412 64.6495 397.412 Q67.7976 397.412 69.6263 395.26 Q71.4781 393.084 71.4781 389.357 Q71.4781 385.607 69.6263 383.454 Q67.7976 381.301 64.6495 381.301 M73.9318 366.649 L73.9318 370.908 Q72.1726 370.075 70.367 369.635 Q68.5846 369.195 66.8254 369.195 Q62.1958 369.195 59.7421 372.32 Q57.3115 375.445 56.9643 381.764 Q58.33 379.75 60.3902 378.686 Q62.4504 377.598 64.9272 377.598 Q70.1355 377.598 73.1448 380.769 Q76.1772 383.917 76.1772 389.357 Q76.1772 394.681 73.029 397.899 Q69.8809 401.116 64.6495 401.116 Q58.6541 401.116 55.4828 396.533 Q52.3116 391.926 52.3116 383.2 Q52.3116 375.005 56.2004 370.144 Q60.0893 365.26 66.6402 365.26 Q68.3994 365.26 70.1818 365.607 Q71.9874 365.954 73.9318 366.649 Z\" fill=\"#000000\" fill-rule=\"nonzero\" fill-opacity=\"1\" /><path clip-path=\"url(#clip950)\" d=\"M53.9551 153.375 L76.1772 153.375 L76.1772 155.365 L63.6309 187.935 L58.7467 187.935 L70.5522 157.31 L53.9551 157.31 L53.9551 153.375 Z\" fill=\"#000000\" fill-rule=\"nonzero\" fill-opacity=\"1\" /><polyline clip-path=\"url(#clip952)\" style=\"stroke:#009af9; stroke-linecap:round; stroke-linejoin:round; stroke-width:4; stroke-opacity:1; fill:none\" points=\"175.59,1445.72 386.965,1398.87 598.34,1341.58 809.716,1271.54 1021.09,1185.93 1232.47,1081.3 1443.84,953.438 1655.22,797.195 1866.59,606.28 2077.97,373.005 2289.34,87.9763 \"/>\n",
       "<polyline clip-path=\"url(#clip952)\" style=\"stroke:#e26f46; stroke-linecap:round; stroke-linejoin:round; stroke-width:4; stroke-opacity:1; fill:none\" points=\"175.59,1445.72 386.965,1399.2 598.34,1342.25 809.716,1272.58 915.404,1232.12 1126.78,1137.94 1655.22,798.86 1760.9,707.938 2077.97,373.594 2183.66,237.899 2289.34,87.9763 \"/>\n",
       "<path clip-path=\"url(#clip950)\" d=\"M186.863 250.738 L463.351 250.738 L463.351 95.2176 L186.863 95.2176  Z\" fill=\"#ffffff\" fill-rule=\"evenodd\" fill-opacity=\"1\"/>\n",
       "<polyline clip-path=\"url(#clip950)\" style=\"stroke:#000000; stroke-linecap:round; stroke-linejoin:round; stroke-width:4; stroke-opacity:1; fill:none\" points=\"186.863,250.738 463.351,250.738 463.351,95.2176 186.863,95.2176 186.863,250.738 \"/>\n",
       "<polyline clip-path=\"url(#clip950)\" style=\"stroke:#009af9; stroke-linecap:round; stroke-linejoin:round; stroke-width:4; stroke-opacity:1; fill:none\" points=\"211.758,147.058 361.13,147.058 \"/>\n",
       "<path clip-path=\"url(#clip950)\" d=\"M399.868 166.745 Q398.063 171.375 396.35 172.787 Q394.637 174.199 391.766 174.199 L388.364 174.199 L388.364 170.634 L390.864 170.634 Q392.623 170.634 393.595 169.8 Q394.567 168.967 395.748 165.865 L396.512 163.921 L386.026 138.412 L390.54 138.412 L398.641 158.689 L406.743 138.412 L411.257 138.412 L399.868 166.745 Z\" fill=\"#000000\" fill-rule=\"nonzero\" fill-opacity=\"1\" /><path clip-path=\"url(#clip950)\" d=\"M418.549 160.402 L426.188 160.402 L426.188 134.037 L417.877 135.703 L417.877 131.444 L426.141 129.778 L430.817 129.778 L430.817 160.402 L438.456 160.402 L438.456 164.338 L418.549 164.338 L418.549 160.402 Z\" fill=\"#000000\" fill-rule=\"nonzero\" fill-opacity=\"1\" /><polyline clip-path=\"url(#clip950)\" style=\"stroke:#e26f46; stroke-linecap:round; stroke-linejoin:round; stroke-width:4; stroke-opacity:1; fill:none\" points=\"211.758,198.898 361.13,198.898 \"/>\n",
       "<path clip-path=\"url(#clip950)\" d=\"M399.868 218.585 Q398.063 223.215 396.35 224.627 Q394.637 226.039 391.766 226.039 L388.364 226.039 L388.364 222.474 L390.864 222.474 Q392.623 222.474 393.595 221.64 Q394.567 220.807 395.748 217.705 L396.512 215.761 L386.026 190.252 L390.54 190.252 L398.641 210.529 L406.743 190.252 L411.257 190.252 L399.868 218.585 Z\" fill=\"#000000\" fill-rule=\"nonzero\" fill-opacity=\"1\" /><path clip-path=\"url(#clip950)\" d=\"M421.766 212.242 L438.086 212.242 L438.086 216.178 L416.141 216.178 L416.141 212.242 Q418.803 209.488 423.387 204.858 Q427.993 200.205 429.174 198.863 Q431.419 196.34 432.299 194.604 Q433.201 192.844 433.201 191.155 Q433.201 188.4 431.257 186.664 Q429.336 184.928 426.234 184.928 Q424.035 184.928 421.581 185.692 Q419.151 186.455 416.373 188.006 L416.373 183.284 Q419.197 182.15 421.65 181.571 Q424.104 180.993 426.141 180.993 Q431.512 180.993 434.706 183.678 Q437.9 186.363 437.9 190.854 Q437.9 192.983 437.09 194.905 Q436.303 196.803 434.197 199.395 Q433.618 200.067 430.516 203.284 Q427.414 206.479 421.766 212.242 Z\" fill=\"#000000\" fill-rule=\"nonzero\" fill-opacity=\"1\" /></svg>\n"
      ]
     },
     "metadata": {},
     "output_type": "display_data"
    }
   ],
   "source": [
    "x = [0.0, 0.2, 0.4, 0.6, 0.7, 0.9, 1.4, 1.5, 1.8, 1.9, 2.0]\n",
    "\n",
    "\n",
    "u1 = UBVP1D(2, 1, exp(2), 11)\n",
    "u2 = BVP1D(2, 1, exp(2), x)\n",
    "\n",
    "plot(LinRange(0,2,11), u1)\n",
    "plot!(x,u2)"
   ]
  },
  {
   "cell_type": "code",
   "execution_count": 106,
   "metadata": {},
   "outputs": [
    {
     "data": {
      "text/plain": [
       "uhat (generic function with 3 methods)"
      ]
     },
     "metadata": {},
     "output_type": "display_data"
    }
   ],
   "source": [
    "function uhat(x::Float64,u::Vector{Float64}, xs::Vector{Float64})\n",
    "    #Evaluates the uhat function in x\n",
    "    # u is the array of the approximated u values.\n",
    "    # x is the value where we want to evaluate the function.\n",
    "    idx = max(searchsortedfirst(xs, x) - 1, 1)\n",
    "\n",
    "    h = xs[idx + 1] - xs[idx]\n",
    "    N1 = (1 - (x - xs[idx])/h)\n",
    "    N2 = (x - xs[idx])/h\n",
    "\n",
    "    return u[idx]*N1 + u[idx + 1]*N2\n",
    "end\n",
    "\n",
    "function uhat(x::Vector{Float64}, u::Vector{Float64}, xs::Vector{Float64})\n",
    "    return uhat.(x, Ref(u), Ref(xs))\n",
    "end\n",
    "\n"
   ]
  },
  {
   "cell_type": "code",
   "execution_count": 112,
   "metadata": {},
   "outputs": [
    {
     "data": {
      "text/plain": [
       "ConvertionDegree (generic function with 1 method)"
      ]
     },
     "metadata": {},
     "output_type": "display_data"
    }
   ],
   "source": [
    "function ConvertionDegree(L::Float64,c::Float64,d::Float64,N::UInt64)\n",
    "    x = collect(LinRange(0,L,10000))\n",
    "    errors = zeros(N-3)\n",
    "    dist = zeros(N-3)\n",
    "    for i=4:N\n",
    "        dist[i-3] = L/(i-1)\n",
    "        u = UBVP1D(L, c, d, i)\n",
    "        xs = collect(LinRange(0,L,i))\n",
    "        uhats = uhat(x, u, xs)\n",
    " \n",
    "        errors[i-3] = maximum(abs,uhats - exp.(x))\n",
    "    end\n",
    "\n",
    "    plot(dist, errors, xaxis=:log10, yaxis=:log10)\n",
    "\n",
    "    p = coeffs(fit(log10.(dist[50:(N-3)]), log10.(errors[50:(N-3)]), 1))[2]\n",
    "\n",
    "    return p\n",
    "end"
   ]
  },
  {
   "cell_type": "code",
   "execution_count": 114,
   "metadata": {},
   "outputs": [
    {
     "name": "stdout",
     "output_type": "stream",
     "text": [
      "2.0006507572861456"
     ]
    }
   ],
   "source": [
    "p = ConvertionDegree(2, 1, exp(2), 10000)\n",
    "\n",
    "print(p)"
   ]
  }
 ],
 "metadata": {
  "kernelspec": {
   "display_name": "Julia 1.10.0",
   "language": "julia",
   "name": "julia-1.10"
  },
  "language_info": {
   "file_extension": ".jl",
   "mimetype": "application/julia",
   "name": "julia",
   "version": "1.10.0"
  }
 },
 "nbformat": 4,
 "nbformat_minor": 2
}
