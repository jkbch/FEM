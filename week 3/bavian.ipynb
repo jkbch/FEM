{
 "cells": [
  {
   "cell_type": "code",
   "execution_count": 9,
   "metadata": {},
   "outputs": [],
   "source": [
    "using LinearAlgebra\n",
    "using SparseArrays\n",
    "using Plots"
   ]
  },
  {
   "cell_type": "code",
   "execution_count": 41,
   "metadata": {},
   "outputs": [
    {
     "data": {
      "text/plain": [
       "constructBnodes (generic function with 1 method)"
      ]
     },
     "execution_count": 41,
     "metadata": {},
     "output_type": "execute_result"
    }
   ],
   "source": [
    "function xy(\n",
    "    x0::Float64, \n",
    "    y0::Float64, \n",
    "    L1::Float64, \n",
    "    L2::Float64, \n",
    "    noelms1::Int64, \n",
    "    noelms2::Int64\n",
    ")::Tuple{Vector{Float64}, Vector{Float64}}\n",
    "    VX = repeat(collect(LinRange(x0, x0+L1, noelms1+1)), inner=noelms2+1)\n",
    "    VY = repeat(collect(LinRange(y0+L2, y0, noelms2+1)), noelms1+1)\n",
    "    return VX, VY\n",
    "end\n",
    "\n",
    "function conelmtab(noelms1::Int64, noelms2::Int64)::Matrix{Int64}\n",
    "    k = [i for i in 1:(noelms1*(noelms2+1)) if i % (noelms2+1) != 0]\n",
    "\n",
    "    return [\n",
    "        k (2 + noelms2 .+ k) (1 + noelms2 .+ k);\n",
    "        k (1 .+ k) (2 + noelms2 .+ k)\n",
    "    ]\n",
    "end\n",
    "\n",
    "function basfun(\n",
    "    VX::Vector{Float64}, \n",
    "    VY::Vector{Float64}, \n",
    "    EToV::Matrix{Int64}\n",
    ")::Tuple{Matrix{Float64}, Matrix{Float64}, Matrix{Float64}}\n",
    "    xjs = VX[EToV[:, [2,3,1]]]\n",
    "    yjs = VY[EToV[:, [2,3,1]]]\n",
    "\n",
    "    xks = VX[EToV[:, [3,1,2]]]\n",
    "    yks = VY[EToV[:, [3,1,2]]]\n",
    "\n",
    "    as = xjs .* yks - xks .* yjs\n",
    "    bs = yjs - yks\n",
    "    cs = xks - xjs\n",
    "\n",
    "    return as, bs, cs\n",
    "end\n",
    "\n",
    "function constructBnodes(\n",
    "    VX::Vector{Float64},\n",
    "    VY::Vector{Float64},\n",
    "    tol::Float64,\n",
    "    fd::Function,\n",
    ")::Vector{Int64}\n",
    "    return findall(abs.(fd.(VX, VY)) .<= tol)\n",
    "end"
   ]
  },
  {
   "cell_type": "markdown",
   "metadata": {},
   "source": [
    "# Exercise 5.1"
   ]
  },
  {
   "cell_type": "code",
   "execution_count": 42,
   "metadata": {},
   "outputs": [
    {
     "data": {
      "text/plain": [
       "assembly (generic function with 1 method)"
      ]
     },
     "execution_count": 42,
     "metadata": {},
     "output_type": "execute_result"
    }
   ],
   "source": [
    "function assembly(\n",
    "    VX::Vector{Float64},\n",
    "    VY::Vector{Float64},\n",
    "    EToV::Matrix{Int64},\n",
    "    lam1::Float64,\n",
    "    lam2::Float64,\n",
    "    qt::Vector{Float64},\n",
    "    c::Vector{Float64}\n",
    ")::Tuple{SparseMatrixCSC{Float64, Int64}, SparseMatrixCSC{Float64, Int64}, Vector{Float64}}\n",
    "    N = size(EToV)[1]\n",
    "    M = length(VX)\n",
    "\n",
    "    R = spzeros(M, M)\n",
    "    S = spzeros(M, M)\n",
    "    b = zeros(M)\n",
    "\n",
    "    ats, bts, cts = basfun(VX, VY, EToV)\n",
    "    deltas = abs.(sum(ats, dims=2) ./ 2)\n",
    "    qs = deltas .* sum(qt[EToV], dims=2) / 9\n",
    "    cs = sum(c[EToV], dims=2) / 3\n",
    "    c_matrix = Diagonal(fill(1/12, 3)) + fill(1/12,3,3) # specific heat matrix for computation\n",
    "\n",
    "    for n in 1:N\n",
    "        delta = deltas[n]\n",
    "        cn_matrix = c_matrix .* delta .* cs[n]\n",
    "        q = qs[n]\n",
    "        bt = bts[n, :]\n",
    "        ct = cts[n, :]\n",
    "\n",
    "        for r in 1:3\n",
    "            i = EToV[n,r]\n",
    "            b[i] += q\n",
    "\n",
    "            for s in r:3\n",
    "                j = EToV[n,s]\n",
    "                kn = (lam1*bt[r]*bt[s] + lam2*ct[r]*ct[s]) / (4 * delta)\n",
    "                R[min(i, j), max(i, j)] += kn\n",
    "                S[min(i, j), max(i ,j)] += cn_matrix[r,s]\n",
    "            end\n",
    "        end\n",
    "    end\n",
    "\n",
    "    return R, S, b\n",
    "end"
   ]
  },
  {
   "cell_type": "code",
   "execution_count": 46,
   "metadata": {},
   "outputs": [
    {
     "data": {
      "text/plain": [
       "dirbc (generic function with 1 method)"
      ]
     },
     "execution_count": 46,
     "metadata": {},
     "output_type": "execute_result"
    }
   ],
   "source": [
    "function dirbc(\n",
    "    bnodes::Vector{Int64}, \n",
    "    f::Vector{Float64}, \n",
    "    R::SparseMatrixCSC{Float64, Int64}, \n",
    "    S::SparseMatrixCSC{Float64, Int64}, \n",
    "    b::Vector{Float64}\n",
    ")::Tuple{SparseMatrixCSC{Float64, Int64}, SparseMatrixCSC{Float64, Int64}, Vector{Float64}, Vector{Float64}}\n",
    "    d = zeros(length(b))\n",
    "    for (i, k) in enumerate(bnodes)\n",
    "        b[k] = 0\n",
    "\n",
    "        indices1R = findall(R[1:k-1, k] .!= 0) \n",
    "        indices2R = findall(R[k, 1+k:end] .!= 0) .+ k\n",
    "        indices1S = findall(S[1:k-1, k] .!= 0) \n",
    "        indices2S = findall(S[k, 1+k:end] .!= 0) .+ k\n",
    "\n",
    "        temp1 = R[indices1R,k] .* f[i]\n",
    "        temp2 = R[k,indices2R] .* f[i]\n",
    "\n",
    "        b[indices1R] -= temp1\n",
    "        b[indices2R] -= temp2\n",
    "\n",
    "        d[indices1R] += temp1\n",
    "        d[indices2R] += temp2\n",
    "\n",
    "        R[indices1R, k] .= 0\n",
    "        R[k, indices2R] .= 0\n",
    "        S[indices1S, k] .= 0\n",
    "        S[k, indices2S] .= 0\n",
    "        \n",
    "        S[k, k] = 1\n",
    "    end\n",
    "\n",
    "    return R, S, b, d\n",
    "end"
   ]
  },
  {
   "cell_type": "code",
   "execution_count": 45,
   "metadata": {},
   "outputs": [
    {
     "ename": "LoadError",
     "evalue": "MethodError: \u001b[0mCannot `convert` an object of type \n\u001b[0m  Tuple{SparseMatrixCSC{Float64,Int64},\u001b[92mVector{Float64}\u001b[39m}\u001b[0m to an object of type \n\u001b[0m  Tuple{SparseMatrixCSC{Float64,Int64},\u001b[91mSparseMatrixCSC{Float64, Int64}\u001b[39m,\u001b[91mVector{Float64}\u001b[39m}\n\n\u001b[0mClosest candidates are:\n\u001b[0m  convert(::Type{T}, ::Tuple{Vararg{Any, N}}) where {N, T<:Tuple}\n\u001b[0m\u001b[90m   @\u001b[39m \u001b[90mBase\u001b[39m \u001b[90m\u001b[4messentials.jl:452\u001b[24m\u001b[39m\n\u001b[0m  convert(::Type{T}, \u001b[91m::T\u001b[39m) where T<:Tuple\n\u001b[0m\u001b[90m   @\u001b[39m \u001b[90mBase\u001b[39m \u001b[90m\u001b[4messentials.jl:451\u001b[24m\u001b[39m\n\u001b[0m  convert(::Type{T}, \u001b[91m::T\u001b[39m) where T\n\u001b[0m\u001b[90m   @\u001b[39m \u001b[90mBase\u001b[39m \u001b[90m\u001b[4mBase.jl:84\u001b[24m\u001b[39m\n\u001b[0m  ...\n",
     "output_type": "error",
     "traceback": [
      "MethodError: \u001b[0mCannot `convert` an object of type \n\u001b[0m  Tuple{SparseMatrixCSC{Float64,Int64},\u001b[92mVector{Float64}\u001b[39m}\u001b[0m to an object of type \n\u001b[0m  Tuple{SparseMatrixCSC{Float64,Int64},\u001b[91mSparseMatrixCSC{Float64, Int64}\u001b[39m,\u001b[91mVector{Float64}\u001b[39m}\n\n\u001b[0mClosest candidates are:\n\u001b[0m  convert(::Type{T}, ::Tuple{Vararg{Any, N}}) where {N, T<:Tuple}\n\u001b[0m\u001b[90m   @\u001b[39m \u001b[90mBase\u001b[39m \u001b[90m\u001b[4messentials.jl:452\u001b[24m\u001b[39m\n\u001b[0m  convert(::Type{T}, \u001b[91m::T\u001b[39m) where T<:Tuple\n\u001b[0m\u001b[90m   @\u001b[39m \u001b[90mBase\u001b[39m \u001b[90m\u001b[4messentials.jl:451\u001b[24m\u001b[39m\n\u001b[0m  convert(::Type{T}, \u001b[91m::T\u001b[39m) where T\n\u001b[0m\u001b[90m   @\u001b[39m \u001b[90mBase\u001b[39m \u001b[90m\u001b[4mBase.jl:84\u001b[24m\u001b[39m\n\u001b[0m  ...\n",
      "",
      "Stacktrace:",
      " [1] _tuple_error(T::Type, x::Tuple{SparseMatrixCSC{Float64, Int64}, Vector{Float64}})",
      "   @ Base .\\essentials.jl:449",
      " [2] convert(::Type{Tuple{SparseMatrixCSC{Float64, Int64}, SparseMatrixCSC{Float64, Int64}, Vector{Float64}}}, x::Tuple{SparseMatrixCSC{Float64, Int64}, Vector{Float64}})",
      "   @ Base .\\essentials.jl:456",
      " [3] dirbc(bnodes::Vector{Int64}, f::Vector{Float64}, R::SparseMatrixCSC{Float64, Int64}, S::SparseMatrixCSC{Float64, Int64}, b::Vector{Float64})",
      "   @ Main .\\In[43]:34",
      " [4] top-level scope",
      "   @ In[45]:20"
     ]
    }
   ],
   "source": [
    "ct(x,y) = 1.0\n",
    "qt(x,y) = 0.0\n",
    "f(x,y) = 1.0\n",
    "distD(x, y) = min(x-x0, y-y0,x0+L1-x, y0+L2-y)\n",
    "\n",
    "lam1 = lam2 = nu = 2.0\n",
    "noelms1 = 4\n",
    "noelms2 = 3\n",
    "x0 = 0.0\n",
    "y0 = 0.0\n",
    "L1 = 1.0\n",
    "L2 = 1.0\n",
    "tol = 0.001\n",
    "\n",
    "VX, VY = xy(x0, y0, L1, L2, noelms1, noelms2)\n",
    "EToV = conelmtab(noelms1, noelms2)\n",
    "bnodes = constructBnodes(VX, VY, tol, distD)\n",
    "\n",
    "R, S, b = assembly(VX, VY, EToV, lam1, lam2, qt.(VX, VY), ct.(VX,VY))\n",
    "R, S, b, d = dirbc(bnodes,f.(VX,VY),R,S,b)\n",
    "\n",
    "display(spy(R,markersize=5))\n",
    "display(spy(S,markersize=5))\n",
    "display(b)\n",
    "display(d)"
   ]
  }
 ],
 "metadata": {
  "kernelspec": {
   "display_name": "Julia 1.10.0",
   "language": "julia",
   "name": "julia-1.10"
  },
  "language_info": {
   "file_extension": ".jl",
   "mimetype": "application/julia",
   "name": "julia",
   "version": "1.10.0"
  }
 },
 "nbformat": 4,
 "nbformat_minor": 2
}
