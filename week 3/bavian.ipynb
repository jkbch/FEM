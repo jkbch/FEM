{
 "cells": [
  {
   "cell_type": "code",
   "execution_count": 9,
   "metadata": {},
   "outputs": [],
   "source": [
    "using LinearAlgebra\n",
    "using SparseArrays\n",
    "using Plots"
   ]
  },
  {
   "cell_type": "code",
   "execution_count": 13,
   "metadata": {},
   "outputs": [
    {
     "data": {
      "text/plain": [
       "basfun (generic function with 2 methods)"
      ]
     },
     "execution_count": 13,
     "metadata": {},
     "output_type": "execute_result"
    }
   ],
   "source": [
    "function xy(\n",
    "    x0::Float64, \n",
    "    y0::Float64, \n",
    "    L1::Float64, \n",
    "    L2::Float64, \n",
    "    noelms1::Int64, \n",
    "    noelms2::Int64\n",
    ")::Tuple{Vector{Float64}, Vector{Float64}}\n",
    "    VX = repeat(collect(LinRange(x0, x0+L1, noelms1+1)), inner=noelms2+1)\n",
    "    VY = repeat(collect(LinRange(y0+L2, y0, noelms2+1)), noelms1+1)\n",
    "    return VX, VY\n",
    "end\n",
    "\n",
    "function conelmtab(noelms1::Int64, noelms2::Int64)::Matrix{Int64}\n",
    "    k = [i for i in 1:(noelms1*(noelms2+1)) if i % (noelms2+1) != 0]\n",
    "\n",
    "    return [\n",
    "        k (2 + noelms2 .+ k) (1 + noelms2 .+ k);\n",
    "        k (1 .+ k) (2 + noelms2 .+ k)\n",
    "    ]\n",
    "end\n",
    "\n",
    "function basfun(\n",
    "    VX::Vector{Float64}, \n",
    "    VY::Vector{Float64}, \n",
    "    EToV::Matrix{Int64}\n",
    ")::Tuple{Matrix{Float64}, Matrix{Float64}, Matrix{Float64}}\n",
    "    xjs = VX[EToV[:, [2,3,1]]]\n",
    "    yjs = VY[EToV[:, [2,3,1]]]\n",
    "\n",
    "    xks = VX[EToV[:, [3,1,2]]]\n",
    "    yks = VY[EToV[:, [3,1,2]]]\n",
    "\n",
    "    as = xjs .* yks - xks .* yjs\n",
    "    bs = yjs - yks\n",
    "    cs = xks - xjs\n",
    "\n",
    "    return as, bs, cs\n",
    "end"
   ]
  },
  {
   "cell_type": "markdown",
   "metadata": {},
   "source": [
    "# Exercise 5.1"
   ]
  },
  {
   "cell_type": "code",
   "execution_count": 32,
   "metadata": {},
   "outputs": [
    {
     "data": {
      "text/plain": [
       "assembly (generic function with 1 method)"
      ]
     },
     "execution_count": 32,
     "metadata": {},
     "output_type": "execute_result"
    }
   ],
   "source": [
    "function assembly(\n",
    "    VX::Vector{Float64},\n",
    "    VY::Vector{Float64},\n",
    "    EToV::Matrix{Int64},\n",
    "    lam1::Float64,\n",
    "    lam2::Float64,\n",
    "    qt::Vector{Float64},\n",
    "    c::Vector{Float64}\n",
    ")::Tuple{SparseMatrixCSC{Float64, Int64}, SparseMatrixCSC{Float64, Int64}, Vector{Float64}}\n",
    "    N = size(EToV)[1]\n",
    "    M = length(VX)\n",
    "\n",
    "    R = spzeros(M, M)\n",
    "    S = spzeros(M, M)\n",
    "    b = zeros(M)\n",
    "\n",
    "    ats, bts, cts = basfun(VX, VY, EToV)\n",
    "    deltas = sum(ats, dims=2) ./ 2\n",
    "    qs = abs.(deltas) .* sum(qt[EToV], dims=2) / 9\n",
    "    cs = sum(c[EToV], dims=2) / 3\n",
    "    c_matrix = Diagonal(fill(1/12, 3)) + fill(1/12,3,3) # specific heat matrix for computation\n",
    "\n",
    "    for n in 1:N\n",
    "        delta = abs(deltas[n])\n",
    "        cn_matrix = c_matrix .* delta .* cs[n]\n",
    "        q = qs[n]\n",
    "        bt = bts[n, :]\n",
    "        ct = cts[n, :]\n",
    "\n",
    "        for r in 1:3\n",
    "            i = EToV[n,r]\n",
    "            b[i] += q\n",
    "\n",
    "            for s in r:3\n",
    "                j = EToV[n,s]\n",
    "                kn = (lam1*bt[r]*bt[s] + lam2*ct[r]*ct[s]) / (4 * delta)\n",
    "                R[min(i, j), max(i, j)] += kn\n",
    "                S[min(i, j), max(i ,j)] += cn_matrix[r,s]\n",
    "\n",
    "            end\n",
    "        end\n",
    "    end\n",
    "\n",
    "    return R, S, b\n",
    "end"
   ]
  },
  {
   "cell_type": "code",
   "execution_count": null,
   "metadata": {},
   "outputs": [],
   "source": []
  },
  {
   "cell_type": "code",
   "execution_count": 33,
   "metadata": {},
   "outputs": [
    {
     "ename": "LoadError",
     "evalue": "UndefVarError: `shn_matrix` not defined",
     "output_type": "error",
     "traceback": [
      "UndefVarError: `shn_matrix` not defined",
      "",
      "Stacktrace:",
      " [1] assembly(VX::Vector{Float64}, VY::Vector{Float64}, EToV::Matrix{Int64}, lam1::Float64, lam2::Float64, qt::Vector{Float64}, c::Vector{Float64})",
      "   @ Main .\\In[32]:38",
      " [2] top-level scope",
      "   @ In[33]:14"
     ]
    }
   ],
   "source": [
    "ct(x,y) = 1.0\n",
    "qt(x,y) = 0.0\n",
    "lam1 = lam2 = nu = 2.0\n",
    "noelms1 = 4\n",
    "noelms2 = 3\n",
    "x0 = 0.0\n",
    "y0 = 0.0\n",
    "L1 = 1.0\n",
    "L2 = 1.0\n",
    "\n",
    "VX, VY = xy(x0, y0, L1, L2, noelms1, noelms2)\n",
    "EToV = conelmtab(noelms1, noelms2)\n",
    "\n",
    "r, s, b = assembly(VX, VY, EToV, lam1, lam2, qt.(VX, VY), ct.(VX,VY))\n",
    "display(spy(r,markersize=5))\n",
    "display(spy(s,markersize=5))\n",
    "display(b)"
   ]
  }
 ],
 "metadata": {
  "kernelspec": {
   "display_name": "Julia 1.10.0",
   "language": "julia",
   "name": "julia-1.10"
  },
  "language_info": {
   "file_extension": ".jl",
   "mimetype": "application/julia",
   "name": "julia",
   "version": "1.10.0"
  }
 },
 "nbformat": 4,
 "nbformat_minor": 2
}
