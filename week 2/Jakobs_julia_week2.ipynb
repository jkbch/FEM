{
 "cells": [
  {
   "cell_type": "markdown",
   "metadata": {},
   "source": [
    "# Exercise 2.1"
   ]
  },
  {
   "cell_type": "code",
   "execution_count": 4,
   "metadata": {},
   "outputs": [
    {
     "data": {
      "text/plain": [
       "20-element Vector{Float64}:\n",
       " -2.5\n",
       " -2.5\n",
       " -2.5\n",
       " -2.5\n",
       " -0.6000000000000001\n",
       " -0.6000000000000001\n",
       " -0.6000000000000001\n",
       " -0.6000000000000001\n",
       "  1.2999999999999998\n",
       "  1.2999999999999998\n",
       "  1.2999999999999998\n",
       "  1.2999999999999998\n",
       "  3.1999999999999997\n",
       "  3.1999999999999997\n",
       "  3.1999999999999997\n",
       "  3.1999999999999997\n",
       "  5.1\n",
       "  5.1\n",
       "  5.1\n",
       "  5.1"
      ]
     },
     "metadata": {},
     "output_type": "display_data"
    },
    {
     "data": {
      "text/plain": [
       "20-element Vector{Float64}:\n",
       "  1.1000000000000005\n",
       " -0.8666666666666661\n",
       " -2.833333333333333\n",
       " -4.8\n",
       "  1.1000000000000005\n",
       " -0.8666666666666661\n",
       " -2.833333333333333\n",
       " -4.8\n",
       "  1.1000000000000005\n",
       " -0.8666666666666661\n",
       " -2.833333333333333\n",
       " -4.8\n",
       "  1.1000000000000005\n",
       " -0.8666666666666661\n",
       " -2.833333333333333\n",
       " -4.8\n",
       "  1.1000000000000005\n",
       " -0.8666666666666661\n",
       " -2.833333333333333\n",
       " -4.8"
      ]
     },
     "metadata": {},
     "output_type": "display_data"
    }
   ],
   "source": [
    "function xy(\n",
    "    x0::Float64, \n",
    "    y0::Float64, \n",
    "    L1::Float64, \n",
    "    L2::Float64, \n",
    "    noelms1::Int64, \n",
    "    noelms2::Int64\n",
    ")::Tuple{Vector{Float64}, Vector{Float64}}\n",
    "    VX = repeat(collect(LinRange(x0, x0+L1, noelms1+1)), inner=noelms2+1)\n",
    "    VY = repeat(collect(LinRange(y0+L2, y0, noelms2+1)), noelms1+1)\n",
    "    return VX, VY\n",
    "end\n",
    "\n",
    "x0 = -2.5\n",
    "y0 = -4.8\n",
    "L1 = 7.6\n",
    "L2 = 5.9\n",
    "noelms1 = 4\n",
    "noelms2 = 3\n",
    "\n",
    "VX, VY = xy(x0, y0, L1, L2, noelms1, noelms2)\n",
    "display(VX)\n",
    "display(VY)"
   ]
  },
  {
   "cell_type": "code",
   "execution_count": 16,
   "metadata": {},
   "outputs": [],
   "source": [
    "function conelmtab(noelms1::Int64, noelms2::Int64)::Matrix{Int64}\n",
    "    k = [i for i in 1:(noelms1*(noelms2+1)) if i % (noelms2+1) != 0]\n",
    "\n",
    "    return [\n",
    "        k (2 + noelms2 .+ k) (1 + noelms2 .+ k);\n",
    "        k (1 .+ k) (2 + noelms2 .+ k)\n",
    "    ]\n",
    "end\n",
    "\n",
    "noelms1 = 10000\n",
    "noelms2 = 10000\n",
    "EToV = conelmtab(noelms1, noelms2)\n",
    "display(EToV)"
   ]
  },
  {
   "cell_type": "markdown",
   "metadata": {},
   "source": [
    "# Exercise 2.2"
   ]
  },
  {
   "cell_type": "code",
   "execution_count": null,
   "metadata": {},
   "outputs": [],
   "source": []
  }
 ],
 "metadata": {
  "kernelspec": {
   "display_name": "Julia 1.10.0",
   "language": "julia",
   "name": "julia-1.10"
  },
  "language_info": {
   "file_extension": ".jl",
   "mimetype": "application/julia",
   "name": "julia",
   "version": "1.10.0"
  }
 },
 "nbformat": 4,
 "nbformat_minor": 2
}
