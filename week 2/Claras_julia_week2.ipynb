{
 "cells": [
  {
   "cell_type": "markdown",
   "metadata": {},
   "source": [
    "# Exercise 2.1"
   ]
  },
  {
   "cell_type": "code",
   "execution_count": 1,
   "metadata": {},
   "outputs": [],
   "source": [
    "using DistMesh"
   ]
  },
  {
   "cell_type": "code",
   "execution_count": 2,
   "metadata": {},
   "outputs": [
    {
     "data": {
      "text/plain": [
       "xy (generic function with 1 method)"
      ]
     },
     "execution_count": 2,
     "metadata": {},
     "output_type": "execute_result"
    }
   ],
   "source": [
    "function xy(x0::Float64, y0::Float64, L1::Float64, L2::Float64, noelms1::Int64, noelms2::Int64)\n",
    "    # Computes the x-coordinates and y-coordinates in a given range, with a given grid definition.\n",
    "    # Author: Clara Hollenbeck\n",
    "    # x0, y0: minimum x and y value\n",
    "    # L1, L\", maximum x and y value respectively\n",
    "    # noelms1, noelms2: no. of elements in the x and y direction respectively.\n",
    "\n",
    "    VX= repeat(collect(LinRange(x0, x0 + L1, noelms1+1)), inner = noelms2+1)\n",
    "    VY = repeat(collect(LinRange(y0 + L2, y0, noelms2+1)), noelms1+1)\n",
    "    return VX, VY\n",
    "end"
   ]
  },
  {
   "cell_type": "code",
   "execution_count": 3,
   "metadata": {},
   "outputs": [
    {
     "data": {
      "text/plain": [
       "conelmtab (generic function with 1 method)"
      ]
     },
     "execution_count": 3,
     "metadata": {},
     "output_type": "execute_result"
    }
   ],
   "source": [
    "function conelmtab(noelms1::Int64, noelms2::Int64)\n",
    "    novertices = noelms1 *noelms2*2\n",
    "    EToV = zeros(Int64, novertices, 3)\n",
    "\n",
    "    for i in 1: noelms1\n",
    "        v1 = collect(range(1, noelms2)) .+ (noelms2+1)*(i-1)\n",
    "        v2 = collect(range(noelms2 + 3, 2*noelms2+2)) .+ (noelms2+1)*(i-1)\n",
    "        v3 = collect(range(noelms2 + 2, 2*noelms2 +1)) .+ (noelms2+1)*(i-1)\n",
    "        v4 = collect(range(2 , noelms2+1)) .+ (noelms2+1)*(i-1)\n",
    "\n",
    "        \n",
    "        EToV[1 + noelms2*2 *(i-1) : noelms2*2 *i , :] = vcat(hcat(v1,v2,v3), hcat(v1, v4, v2))\n",
    "\n",
    "    end\n",
    "    return EToV[sortperm(EToV[:, 1]), :]\n",
    "\n",
    "end\n"
   ]
  },
  {
   "cell_type": "markdown",
   "metadata": {},
   "source": [
    "# Exercise 2.2"
   ]
  },
  {
   "cell_type": "code",
   "execution_count": 5,
   "metadata": {},
   "outputs": [
    {
     "data": {
      "text/plain": [
       "basfun (generic function with 1 method)"
      ]
     },
     "execution_count": 5,
     "metadata": {},
     "output_type": "execute_result"
    }
   ],
   "source": [
    "function basfun(n,VX,VY,EToV)\n",
    "    i1 = EToV[n,1]\n",
    "    i2 = EToV[n,2]\n",
    "    i3 = EToV[n,3]\n",
    "    abc = zeros(3,3)\n",
    "\n",
    "    m = 1\n",
    "    \n",
    "    for (j, k) in ((i2, i3), (i3, i1), (i1, i2))\n",
    "        abc[m, 1] = VX[j]*VY[k] - VX[k]*VY[j] \n",
    "        abc[m, 2] = VY[j] - VY[k] \n",
    "        abc[m, 3] = VX[k]- VX[j] \n",
    "        m += 1\n",
    "    end\n",
    "\n",
    "\n",
    "    delta = 1/2 *(abc[1,1] + abc[2,1] + abc[3,1])\n",
    "    return abc, delta\n",
    "\n",
    "end"
   ]
  },
  {
   "cell_type": "code",
   "execution_count": 18,
   "metadata": {},
   "outputs": [
    {
     "data": {
      "text/plain": [
       "outernormal (generic function with 1 method)"
      ]
     },
     "execution_count": 18,
     "metadata": {},
     "output_type": "execute_result"
    }
   ],
   "source": [
    "function  outernormal(n,k,VX,VY,EToV)\n",
    "    k2 = ((k+1)%3 +1)\n",
    "    dx =  VX[EToV[n, k2]] - VX[EToV[n, k]]\n",
    "    dy =  VY[EToV[n, k2]] - VY[EToV[n, k]]\n",
    "\n",
    "    norm = [dy; -dx]./sqrt(dx^2+dy^2)\n",
    "\n",
    "    return norm\n",
    "end"
   ]
  },
  {
   "cell_type": "code",
   "execution_count": 22,
   "metadata": {},
   "outputs": [
    {
     "data": {
      "text/plain": [
       "3×3 Matrix{Float64}:\n",
       "  2.55667  -1.96667   0.0\n",
       " -1.64667   0.0      -1.9\n",
       "  2.82667   1.96667   1.9"
      ]
     },
     "metadata": {},
     "output_type": "display_data"
    },
    {
     "data": {
      "text/plain": [
       "1.8683333333333336"
      ]
     },
     "metadata": {},
     "output_type": "display_data"
    },
    {
     "data": {
      "text/plain": [
       "2-element Vector{Float64}:\n",
       " 0.7191913900847712\n",
       " 0.6948120209293551"
      ]
     },
     "metadata": {},
     "output_type": "display_data"
    }
   ],
   "source": [
    "n = 9\n",
    "k = 2\n",
    "x0 = -2.5\n",
    "y0 = -4.8\n",
    "L1 = 7.6\n",
    "L2 = 5.9\n",
    "noelm1 = 4\n",
    "noelm2 = 3\n",
    "VX, VY = xy(x0, y0, L1, L2, noelm1, noelm2)\n",
    "EToV = conelmtab(noelm1, noelm2)\n",
    "abc, delta = basfun(n, VX, VY, EToV)\n",
    "norm = outernormal(n,k,VX,VY,EToV)\n",
    "display(abc)\n",
    "display(delta)\n",
    "display(norm)"
   ]
  },
  {
   "cell_type": "markdown",
   "metadata": {},
   "source": [
    "# Exercise 2.3"
   ]
  },
  {
   "cell_type": "code",
   "execution_count": 8,
   "metadata": {},
   "outputs": [
    {
     "data": {
      "text/plain": [
       "assembly (generic function with 1 method)"
      ]
     },
     "execution_count": 8,
     "metadata": {},
     "output_type": "execute_result"
    }
   ],
   "source": [
    "function assembly(VX,VY,EToV,lam1,lam2,qt)\n",
    "    M = length(VX)\n",
    "    N, _ = size(EToV)\n",
    "\n",
    "    A = zeros(M,M)\n",
    "    b = zeros(M)\n",
    "\n",
    "    for n in 1:N\n",
    "        abc, delta = basfun(n, VX, VY, EToV)\n",
    "\n",
    "        for r in 1:3\n",
    "            i = EToV[n,r]\n",
    "            b[i] += abs(delta)/9* sum(qt[EToV[n, :]])\n",
    "            \n",
    "            for s in 1:3\n",
    "                j = EToV[n,((s+1)%3 +1)]\n",
    "                kn = 1/(4*abs(delta))*(lam1*abc[r,2]*abc[s,2] + lam2*abc[r,3]*abc[s,3])\n",
    "                A[i,j] += kn \n",
    "            end\n",
    "        end\n",
    "    end\n",
    "    return A, b\n",
    "\n",
    "end"
   ]
  },
  {
   "cell_type": "code",
   "execution_count": 13,
   "metadata": {},
   "outputs": [
    {
     "data": {
      "text/plain": [
       "25×25 Matrix{Float64}:\n",
       " -0.5   0.0   0.0   0.0   0.0   0.5  …   0.0   0.0   0.0   0.0   0.0   0.0\n",
       "  1.0  -1.0   0.0   0.0   0.0   0.0      0.0   0.0   0.0   0.0   0.0   0.0\n",
       "  0.0   1.0  -1.0   0.0   0.0   0.0      0.0   0.0   0.0   0.0   0.0   0.0\n",
       "  0.0   0.0   1.0  -1.0   0.0   0.0      0.0   0.0   0.0   0.0   0.0   0.0\n",
       "  0.0   0.0   0.0   1.0  -0.5   0.0      0.0   0.0   0.0   0.0   0.0   0.0\n",
       " -0.5   0.0   0.0   0.0   0.0  -1.0  …   0.0   0.0   0.0   0.0   0.0   0.0\n",
       "  0.0   0.0   0.0   0.0   0.0   1.0      0.0   0.0   0.0   0.0   0.0   0.0\n",
       "  0.0   0.0   0.0   0.0   0.0   0.0      0.0   0.0   0.0   0.0   0.0   0.0\n",
       "  0.0   0.0   0.0   0.0   0.0   0.0      0.0   0.0   0.0   0.0   0.0   0.0\n",
       "  0.0   0.0   0.0   0.0   0.5   0.0      0.0   0.0   0.0   0.0   0.0   0.0\n",
       "  0.0   0.0   0.0   0.0   0.0  -0.5  …   0.0   0.0   0.0   0.0   0.0   0.0\n",
       "  0.0   0.0   0.0   0.0   0.0   0.0      0.0   0.0   0.0   0.0   0.0   0.0\n",
       "  0.0   0.0   0.0   0.0   0.0   0.0      0.0   0.0   0.0   0.0   0.0   0.0\n",
       "  0.0   0.0   0.0   0.0   0.0   0.0      0.0   0.0   0.0   0.0   0.0   0.0\n",
       "  0.0   0.0   0.0   0.0   0.0   0.0     -0.5   0.0   0.0   0.0   0.0   0.0\n",
       "  0.0   0.0   0.0   0.0   0.0   0.0  …   0.0   0.5   0.0   0.0   0.0   0.0\n",
       "  0.0   0.0   0.0   0.0   0.0   0.0      0.0   0.0   0.0   0.0   0.0   0.0\n",
       "  0.0   0.0   0.0   0.0   0.0   0.0      0.0   0.0   0.0   0.0   0.0   0.0\n",
       "  0.0   0.0   0.0   0.0   0.0   0.0      1.0   0.0   0.0   0.0   0.0   0.0\n",
       "  0.0   0.0   0.0   0.0   0.0   0.0     -1.0   0.0   0.0   0.0   0.0  -0.5\n",
       "  0.0   0.0   0.0   0.0   0.0   0.0  …   0.0  -0.5   1.0   0.0   0.0   0.0\n",
       "  0.0   0.0   0.0   0.0   0.0   0.0      0.0   0.0  -1.0   1.0   0.0   0.0\n",
       "  0.0   0.0   0.0   0.0   0.0   0.0      0.0   0.0   0.0  -1.0   1.0   0.0\n",
       "  0.0   0.0   0.0   0.0   0.0   0.0      0.0   0.0   0.0   0.0  -1.0   1.0\n",
       "  0.0   0.0   0.0   0.0   0.0   0.0      0.5   0.0   0.0   0.0   0.0  -0.5"
      ]
     },
     "metadata": {},
     "output_type": "display_data"
    },
    {
     "data": {
      "text/plain": [
       "25-element Vector{Float64}:\n",
       " 0.0\n",
       " 0.0\n",
       " 0.0\n",
       " 0.0\n",
       " 0.0\n",
       " 0.0\n",
       " 0.0\n",
       " 0.0\n",
       " 0.0\n",
       " 0.0\n",
       " 0.0\n",
       " 0.0\n",
       " 0.0\n",
       " 0.0\n",
       " 0.0\n",
       " 0.0\n",
       " 0.0\n",
       " 0.0\n",
       " 0.0\n",
       " 0.0\n",
       " 0.0\n",
       " 0.0\n",
       " 0.0\n",
       " 0.0\n",
       " 0.0"
      ]
     },
     "metadata": {},
     "output_type": "display_data"
    }
   ],
   "source": [
    "x0, y0 = (0.0,0.0)\n",
    "L1 = 1.0\n",
    "L2 = 1.0\n",
    "lam1 = 1\n",
    "lam2 = 1\n",
    "noelm1 = 4\n",
    "noelm2 = 4\n",
    "qt = zeros((noelm1+1)*(noelm2+1))\n",
    "\n",
    "VX, VY = xy(x0, y0, L1, L2, noelm1, noelm2)\n",
    "EToV = conelmtab(noelm1, noelm2)\n",
    "\n",
    "A, b =assembly(VX,VY,EToV,lam1,lam2,qt)\n",
    "\n",
    "display(A)\n",
    "display(b)\n",
    "\n"
   ]
  },
  {
   "cell_type": "code",
   "execution_count": null,
   "metadata": {},
   "outputs": [
    {
     "ename": "LoadError",
     "evalue": "LoadError: UndefVarError: `@p` not defined\nin expression starting at In[6]:2",
     "output_type": "error",
     "traceback": [
      "LoadError: UndefVarError: `@p` not defined\nin expression starting at In[6]:2",
      ""
     ]
    }
   ],
   "source": [
    " \n",
    " fd = @(p) -min(min(min(1+p(:,2),1-p(:,2)),1+p(:,1)),1-p(:,1));\n",
    "  fh = @(p) ones(size(p,1),1);\n",
    "  [p,t] = distmesh( fd, fh, 0.2, [-1,-1;1,1], [-1,-1;-1,1;1,-1;1,1] );\n",
    "  patch( 'vertices', p, 'faces', t, 'facecolor', [.9, .9, .9] )"
   ]
  }
 ],
 "metadata": {
  "kernelspec": {
   "display_name": "Julia 1.10.0",
   "language": "julia",
   "name": "julia-1.10"
  },
  "language_info": {
   "file_extension": ".jl",
   "mimetype": "application/julia",
   "name": "julia",
   "version": "1.10.0"
  }
 },
 "nbformat": 4,
 "nbformat_minor": 2
}
