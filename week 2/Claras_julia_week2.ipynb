{
 "cells": [
  {
   "cell_type": "markdown",
   "metadata": {},
   "source": [
    "# Exercise 2.1"
   ]
  },
  {
   "cell_type": "code",
   "execution_count": 3,
   "metadata": {},
   "outputs": [],
   "source": [
    "using DistMesh"
   ]
  },
  {
   "cell_type": "code",
   "execution_count": 8,
   "metadata": {},
   "outputs": [
    {
     "data": {
      "text/plain": [
       "xy (generic function with 1 method)"
      ]
     },
     "execution_count": 8,
     "metadata": {},
     "output_type": "execute_result"
    }
   ],
   "source": [
    "function xy(x0,y0,L1,L2,noelms1,noelms2)\n",
    "    # Computes the x-coordinates and y-coordinates in a given range, with a given grid definition.\n",
    "    # Author: Clara Hollenbeck\n",
    "    # x0, y0: minimum x and y value\n",
    "    # L1, L\", maximum x and y value respectively\n",
    "    # noelms1, noelms2: no. of elements in the x and y direction respectively.\n",
    "\n",
    "    VX= repeat(collect(LinRange(x0, x0 + L1, noelms1)), inner = noelms2+1)\n",
    "    VY = repeat(collect(LinRange(y0 +L2, y0, noelms2)), noelms1)\n",
    "    return VX, VY\n",
    "end"
   ]
  },
  {
   "cell_type": "code",
   "execution_count": 65,
   "metadata": {},
   "outputs": [
    {
     "data": {
      "text/plain": [
       "conelmtab (generic function with 1 method)"
      ]
     },
     "execution_count": 65,
     "metadata": {},
     "output_type": "execute_result"
    }
   ],
   "source": [
    "function conelmtab(noelms1,noelms2)\n",
    "    novertices = noelms1 *noelms2*2\n",
    "    EToV = zeros(Int64, novertices, 3)\n",
    "\n",
    "    for i in 1: noelms1\n",
    "        v1 = collect(range(1, noelms2)) .+ noelms2*(i-1)\n",
    "        v2 = collect(range(noelms2 + 3, 2*noelms2+2)) .+ noelms2*(i-1)\n",
    "        v3 = collect(range(noelms2 + 2, 2*noelms2 +1)) .+ noelms2*(i-1)\n",
    "        v4 = collect(range(2 , noelms2+1)) .+ noelms2*(i-1)\n",
    "\n",
    "        \n",
    "        EToV[1 + noelms2*2 *(i-1) : noelms2*2 *i , :] = vcat(hcat(v1,v2,v3), hcat(v1, v4, v3))\n",
    "\n",
    "    end\n",
    "    return EToV\n",
    "\n",
    "end\n"
   ]
  },
  {
   "cell_type": "code",
   "execution_count": 68,
   "metadata": {},
   "outputs": [
    {
     "data": {
      "text/plain": [
       "200000000×3 Matrix{Int64}:\n",
       "         1      10003      10002\n",
       "         2      10004      10003\n",
       "         3      10005      10004\n",
       "         4      10006      10005\n",
       "         5      10007      10006\n",
       "         6      10008      10007\n",
       "         7      10009      10008\n",
       "         8      10010      10009\n",
       "         9      10011      10010\n",
       "        10      10012      10011\n",
       "        11      10013      10012\n",
       "        12      10014      10013\n",
       "        13      10015      10014\n",
       "         ⋮             \n",
       "  99999989   99999990  100009990\n",
       "  99999990   99999991  100009991\n",
       "  99999991   99999992  100009992\n",
       "  99999992   99999993  100009993\n",
       "  99999993   99999994  100009994\n",
       "  99999994   99999995  100009995\n",
       "  99999995   99999996  100009996\n",
       "  99999996   99999997  100009997\n",
       "  99999997   99999998  100009998\n",
       "  99999998   99999999  100009999\n",
       "  99999999  100000000  100010000\n",
       " 100000000  100000001  100010001"
      ]
     },
     "execution_count": 68,
     "metadata": {},
     "output_type": "execute_result"
    }
   ],
   "source": [
    "#VX, VY = xy(-2.5, -4.8, 7.6, 5.9, 4, 3)\n",
    "\n",
    "conelmtab(10000, 10000)\n"
   ]
  },
  {
   "cell_type": "markdown",
   "metadata": {},
   "source": [
    "# Exercise 2.2"
   ]
  },
  {
   "cell_type": "code",
   "execution_count": null,
   "metadata": {},
   "outputs": [],
   "source": [
    "function basfun(n,VX,VY,EToV)\n",
    "    \n",
    "\n",
    "end"
   ]
  },
  {
   "cell_type": "code",
   "execution_count": 4,
   "metadata": {},
   "outputs": [
    {
     "ename": "LoadError",
     "evalue": "LoadError: UndefVarError: `@p` not defined\nin expression starting at In[4]:1",
     "output_type": "error",
     "traceback": [
      "LoadError: UndefVarError: `@p` not defined\nin expression starting at In[4]:1",
      ""
     ]
    }
   ],
   "source": [
    " \n",
    " fd = @(p) -min(min(min(1+p(:,2),1-p(:,2)),1+p(:,1)),1-p(:,1));\n",
    "  fh = @(p) ones(size(p,1),1);\n",
    "  [p,t] = distmesh( fd, fh, 0.2, [-1,-1;1,1], [-1,-1;-1,1;1,-1;1,1] );\n",
    "  patch( 'vertices', p, 'faces', t, 'facecolor', [.9, .9, .9] )"
   ]
  }
 ],
 "metadata": {
  "kernelspec": {
   "display_name": "Julia 1.10.0",
   "language": "julia",
   "name": "julia-1.10"
  },
  "language_info": {
   "file_extension": ".jl",
   "mimetype": "application/julia",
   "name": "julia",
   "version": "1.10.0"
  }
 },
 "nbformat": 4,
 "nbformat_minor": 2
}
