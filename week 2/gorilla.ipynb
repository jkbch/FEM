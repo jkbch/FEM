{
 "cells": [
  {
   "cell_type": "code",
   "execution_count": 2,
   "metadata": {},
   "outputs": [],
   "source": [
    "using LinearAlgebra\n",
    "using SparseArrays\n",
    "using Plots\n",
    "using Polynomials\n",
    "using Statistics"
   ]
  },
  {
   "cell_type": "markdown",
   "metadata": {},
   "source": [
    "# Exercise 2.1"
   ]
  },
  {
   "cell_type": "markdown",
   "metadata": {},
   "source": [
    "##### a)"
   ]
  },
  {
   "cell_type": "code",
   "execution_count": 14,
   "metadata": {},
   "outputs": [
    {
     "data": {
      "text/plain": [
       "20-element Vector{Float64}:\n",
       " -2.5\n",
       " -2.5\n",
       " -2.5\n",
       " -2.5\n",
       " -0.6\n",
       " -0.6\n",
       " -0.6\n",
       " -0.6\n",
       "  1.3\n",
       "  1.3\n",
       "  1.3\n",
       "  1.3\n",
       "  3.2\n",
       "  3.2\n",
       "  3.2\n",
       "  3.2\n",
       "  5.1\n",
       "  5.1\n",
       "  5.1\n",
       "  5.1"
      ]
     },
     "metadata": {},
     "output_type": "display_data"
    },
    {
     "data": {
      "text/plain": [
       "20-element Vector{Float64}:\n",
       " -4.8\n",
       " -2.833333333333333\n",
       " -0.8666666666666663\n",
       "  1.1000000000000005\n",
       " -4.8\n",
       " -2.833333333333333\n",
       " -0.8666666666666663\n",
       "  1.1000000000000005\n",
       " -4.8\n",
       " -2.833333333333333\n",
       " -0.8666666666666663\n",
       "  1.1000000000000005\n",
       " -4.8\n",
       " -2.833333333333333\n",
       " -0.8666666666666663\n",
       "  1.1000000000000005\n",
       " -4.8\n",
       " -2.833333333333333\n",
       " -0.8666666666666663\n",
       "  1.1000000000000005"
      ]
     },
     "metadata": {},
     "output_type": "display_data"
    }
   ],
   "source": [
    "function xy(x0::Float64,y0::Float64,L1::Float64,L2::Float64,noelms1::Int64,noelms2::Int64) :: Tuple{Vector{Float64},Vector{Float64}}\n",
    "    VX = repeat(collect(range(x0+L1,x0,noelms1+1)),inner=noelms2+1)\n",
    "    VY = repeat(collect(range(y0+L2,y0,noelms2+1)),noelms1+1)\n",
    "    return VX,VY\n",
    "end\n",
    "\n",
    "VX,VY = xy(-2.5,-4.8,7.6,5.9,4,3)\n",
    "display(VX)\n",
    "display(VY)"
   ]
  },
  {
   "cell_type": "markdown",
   "metadata": {},
   "source": [
    "##### b)"
   ]
  },
  {
   "cell_type": "code",
   "execution_count": null,
   "metadata": {},
   "outputs": [],
   "source": [
    "function conelmtab(noelms1::Int64,noelms2::Int64) :: Matrix{Float64}\n",
    "    \n",
    "end"
   ]
  }
 ],
 "metadata": {
  "kernelspec": {
   "display_name": "Julia 1.10.0",
   "language": "julia",
   "name": "julia-1.10"
  },
  "language_info": {
   "file_extension": ".jl",
   "mimetype": "application/julia",
   "name": "julia",
   "version": "1.10.0"
  }
 },
 "nbformat": 4,
 "nbformat_minor": 2
}
