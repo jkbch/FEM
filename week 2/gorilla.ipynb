{
 "cells": [
  {
   "cell_type": "code",
   "execution_count": 2,
   "metadata": {},
   "outputs": [],
   "source": [
    "using LinearAlgebra\n",
    "using SparseArrays\n",
    "using Plots\n",
    "using Polynomials\n",
    "using Statistics"
   ]
  },
  {
   "cell_type": "markdown",
   "metadata": {},
   "source": [
    "# Exercise 2.1"
   ]
  },
  {
   "cell_type": "markdown",
   "metadata": {},
   "source": [
    "##### a)"
   ]
  },
  {
   "cell_type": "code",
   "execution_count": 18,
   "metadata": {},
   "outputs": [
    {
     "data": {
      "text/plain": [
       "([-2.5, -2.5, -2.5, -2.5, -0.6000000000000001, -0.6000000000000001, -0.6000000000000001, -0.6000000000000001, 1.2999999999999998, 1.2999999999999998, 1.2999999999999998, 1.2999999999999998, 3.1999999999999997, 3.1999999999999997, 3.1999999999999997, 3.1999999999999997, 5.1, 5.1, 5.1, 5.1], [1.1000000000000005, -0.8666666666666661, -2.833333333333333, -4.8, 1.1000000000000005, -0.8666666666666661, -2.833333333333333, -4.8, 1.1000000000000005, -0.8666666666666661, -2.833333333333333, -4.8, 1.1000000000000005, -0.8666666666666661, -2.833333333333333, -4.8, 1.1000000000000005, -0.8666666666666661, -2.833333333333333, -4.8])"
      ]
     },
     "execution_count": 18,
     "metadata": {},
     "output_type": "execute_result"
    }
   ],
   "source": [
    "function xy(x0::Float64,y0::Float64,L1::Float64,L2::Float64,noelms1::Int64,noelms2::Int64) :: Tuple{Vector{Float64},Vector{Float64}}\n",
    "    VX = repeat(collect(LinRange(x0,x0+L1,noelms1+1)),inner=noelms2+1)\n",
    "    VY = repeat(collect(LinRange(y0+L2,y0,noelms2+1)),noelms1+1)\n",
    "    return VX,VY\n",
    "end\n",
    "\n",
    "VX,VY = xy(-2.5,-4.8,7.6,5.9,4,3)\n"
   ]
  },
  {
   "cell_type": "markdown",
   "metadata": {},
   "source": [
    "##### b)"
   ]
  },
  {
   "cell_type": "code",
   "execution_count": 25,
   "metadata": {},
   "outputs": [
    {
     "data": {
      "text/plain": [
       "24×3 Matrix{Int64}:\n",
       "  1   2   6\n",
       "  1   6   5\n",
       "  2   3   7\n",
       "  2   7   6\n",
       "  3   4   8\n",
       "  3   8   7\n",
       "  5   6  10\n",
       "  5  10   9\n",
       "  6   7  11\n",
       "  6  11  10\n",
       "  7   8  12\n",
       "  7  12  11\n",
       "  9  10  14\n",
       "  9  14  13\n",
       " 10  11  15\n",
       " 10  15  14\n",
       " 11  12  16\n",
       " 11  16  15\n",
       " 13  14  18\n",
       " 13  18  17\n",
       " 14  15  19\n",
       " 14  19  18\n",
       " 15  16  20\n",
       " 15  20  19"
      ]
     },
     "execution_count": 25,
     "metadata": {},
     "output_type": "execute_result"
    }
   ],
   "source": [
    "function conelmtab(noelms1::Int64,noelms2::Int64) :: Matrix{Int64}\n",
    "    EToV = zeros((noelms1*noelms2*2,3))\n",
    "    for i in 1:noelms1\n",
    "        for j in 1:noelms2\n",
    "            EToV[(j+(i-1)*noelms2)*2-1,:] = [j+(i-1)*(noelms2+1),j+(i-1)*(noelms2+1)+1,j+i*(noelms2+1)+1]\n",
    "            EToV[(j+(i-1)*noelms2)*2,:] = [j+(i-1)*(noelms2+1),j+i*(noelms2+1)+1,j+i*(noelms2+1)]\n",
    "        end\n",
    "    end\n",
    "    return EToV;\n",
    "end\n",
    "\n",
    "conelmtab(4,3)"
   ]
  },
  {
   "cell_type": "markdown",
   "metadata": {},
   "source": [
    "# Exercise 2.2"
   ]
  }
 ],
 "metadata": {
  "kernelspec": {
   "display_name": "Julia 1.10.0",
   "language": "julia",
   "name": "julia-1.10"
  },
  "language_info": {
   "file_extension": ".jl",
   "mimetype": "application/julia",
   "name": "julia",
   "version": "1.10.0"
  }
 },
 "nbformat": 4,
 "nbformat_minor": 2
}
